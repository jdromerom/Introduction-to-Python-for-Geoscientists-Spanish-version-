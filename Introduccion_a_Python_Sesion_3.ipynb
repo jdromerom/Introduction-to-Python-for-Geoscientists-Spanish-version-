{
 "cells": [
  {
   "cell_type": "markdown",
   "metadata": {
    "colab_type": "text",
    "id": "u0NcNlwW-XVg"
   },
   "source": [
    "*Tarea:*\n",
    "\n",
    "- Cree un programa que calcule el máximo común divisor entre dos números."
   ]
  },
  {
   "cell_type": "code",
   "execution_count": 5,
   "metadata": {
    "scrolled": true
   },
   "outputs": [
    {
     "name": "stdout",
     "output_type": "stream",
     "text": [
      "Requirement already satisfied: tutormagic in c:\\users\\administrador\\anaconda3\\lib\\site-packages (0.3.0)\n",
      "Requirement already satisfied: notebook>=3.0 in c:\\users\\administrador\\anaconda3\\lib\\site-packages (from tutormagic) (6.0.1)\n",
      "Requirement already satisfied: ipykernel in c:\\users\\administrador\\anaconda3\\lib\\site-packages (from notebook>=3.0->tutormagic) (5.1.2)\n",
      "Requirement already satisfied: pyzmq>=17 in c:\\users\\administrador\\anaconda3\\lib\\site-packages (from notebook>=3.0->tutormagic) (18.1.0)\n",
      "Requirement already satisfied: ipython-genutils in c:\\users\\administrador\\anaconda3\\lib\\site-packages (from notebook>=3.0->tutormagic) (0.2.0)\n",
      "Requirement already satisfied: nbformat in c:\\users\\administrador\\anaconda3\\lib\\site-packages (from notebook>=3.0->tutormagic) (4.4.0)\n",
      "Requirement already satisfied: tornado>=5.0 in c:\\users\\administrador\\anaconda3\\lib\\site-packages (from notebook>=3.0->tutormagic) (6.0.3)\n",
      "Requirement already satisfied: nbconvert in c:\\users\\administrador\\anaconda3\\lib\\site-packages (from notebook>=3.0->tutormagic) (5.6.0)\n",
      "Requirement already satisfied: Send2Trash in c:\\users\\administrador\\anaconda3\\lib\\site-packages (from notebook>=3.0->tutormagic) (1.5.0)\n",
      "Requirement already satisfied: jupyter-core>=4.4.0 in c:\\users\\administrador\\anaconda3\\lib\\site-packages (from notebook>=3.0->tutormagic) (4.5.0)\n",
      "Requirement already satisfied: traitlets>=4.2.1 in c:\\users\\administrador\\anaconda3\\lib\\site-packages (from notebook>=3.0->tutormagic) (4.3.3)\n",
      "Requirement already satisfied: prometheus-client in c:\\users\\administrador\\anaconda3\\lib\\site-packages (from notebook>=3.0->tutormagic) (0.7.1)\n",
      "Requirement already satisfied: jinja2 in c:\\users\\administrador\\anaconda3\\lib\\site-packages (from notebook>=3.0->tutormagic) (2.10.3)\n",
      "Requirement already satisfied: jupyter-client>=5.3.1 in c:\\users\\administrador\\anaconda3\\lib\\site-packages (from notebook>=3.0->tutormagic) (5.3.3)\n",
      "Requirement already satisfied: terminado>=0.8.1 in c:\\users\\administrador\\anaconda3\\lib\\site-packages (from notebook>=3.0->tutormagic) (0.8.2)\n",
      "Requirement already satisfied: ipython>=5.0.0 in c:\\users\\administrador\\anaconda3\\lib\\site-packages (from ipykernel->notebook>=3.0->tutormagic) (7.8.0)\n",
      "Requirement already satisfied: jsonschema!=2.5.0,>=2.4 in c:\\users\\administrador\\anaconda3\\lib\\site-packages (from nbformat->notebook>=3.0->tutormagic) (3.0.2)\n",
      "Requirement already satisfied: bleach in c:\\users\\administrador\\anaconda3\\lib\\site-packages (from nbconvert->notebook>=3.0->tutormagic) (3.1.0)\n",
      "Requirement already satisfied: defusedxml in c:\\users\\administrador\\anaconda3\\lib\\site-packages (from nbconvert->notebook>=3.0->tutormagic) (0.6.0)\n",
      "Requirement already satisfied: pandocfilters>=1.4.1 in c:\\users\\administrador\\anaconda3\\lib\\site-packages (from nbconvert->notebook>=3.0->tutormagic) (1.4.2)\n",
      "Requirement already satisfied: entrypoints>=0.2.2 in c:\\users\\administrador\\anaconda3\\lib\\site-packages (from nbconvert->notebook>=3.0->tutormagic) (0.3)\n",
      "Requirement already satisfied: testpath in c:\\users\\administrador\\anaconda3\\lib\\site-packages (from nbconvert->notebook>=3.0->tutormagic) (0.4.2)\n",
      "Requirement already satisfied: mistune<2,>=0.8.1 in c:\\users\\administrador\\anaconda3\\lib\\site-packages (from nbconvert->notebook>=3.0->tutormagic) (0.8.4)\n",
      "Requirement already satisfied: pygments in c:\\users\\administrador\\anaconda3\\lib\\site-packages (from nbconvert->notebook>=3.0->tutormagic) (2.4.2)\n",
      "Requirement already satisfied: six in c:\\users\\administrador\\anaconda3\\lib\\site-packages (from traitlets>=4.2.1->notebook>=3.0->tutormagic) (1.12.0)\n",
      "Requirement already satisfied: decorator in c:\\users\\administrador\\anaconda3\\lib\\site-packages (from traitlets>=4.2.1->notebook>=3.0->tutormagic) (4.4.0)\n",
      "Requirement already satisfied: MarkupSafe>=0.23 in c:\\users\\administrador\\anaconda3\\lib\\site-packages (from jinja2->notebook>=3.0->tutormagic) (1.1.1)\n",
      "Requirement already satisfied: python-dateutil>=2.1 in c:\\users\\administrador\\anaconda3\\lib\\site-packages (from jupyter-client>=5.3.1->notebook>=3.0->tutormagic) (2.8.0)\n",
      "Requirement already satisfied: pywin32>=1.0; sys_platform == \"win32\" in c:\\users\\administrador\\anaconda3\\lib\\site-packages (from jupyter-client>=5.3.1->notebook>=3.0->tutormagic) (223)\n",
      "Requirement already satisfied: prompt-toolkit<2.1.0,>=2.0.0 in c:\\users\\administrador\\anaconda3\\lib\\site-packages (from ipython>=5.0.0->ipykernel->notebook>=3.0->tutormagic) (2.0.10)\n",
      "Requirement already satisfied: pickleshare in c:\\users\\administrador\\anaconda3\\lib\\site-packages (from ipython>=5.0.0->ipykernel->notebook>=3.0->tutormagic) (0.7.5)\n",
      "Requirement already satisfied: colorama; sys_platform == \"win32\" in c:\\users\\administrador\\anaconda3\\lib\\site-packages (from ipython>=5.0.0->ipykernel->notebook>=3.0->tutormagic) (0.4.1)\n",
      "Requirement already satisfied: jedi>=0.10 in c:\\users\\administrador\\anaconda3\\lib\\site-packages (from ipython>=5.0.0->ipykernel->notebook>=3.0->tutormagic) (0.15.1)\n",
      "Requirement already satisfied: backcall in c:\\users\\administrador\\anaconda3\\lib\\site-packages (from ipython>=5.0.0->ipykernel->notebook>=3.0->tutormagic) (0.1.0)\n",
      "Requirement already satisfied: setuptools>=18.5 in c:\\users\\administrador\\anaconda3\\lib\\site-packages (from ipython>=5.0.0->ipykernel->notebook>=3.0->tutormagic) (41.4.0)\n",
      "Requirement already satisfied: attrs>=17.4.0 in c:\\users\\administrador\\anaconda3\\lib\\site-packages (from jsonschema!=2.5.0,>=2.4->nbformat->notebook>=3.0->tutormagic) (19.2.0)\n",
      "Requirement already satisfied: pyrsistent>=0.14.0 in c:\\users\\administrador\\anaconda3\\lib\\site-packages (from jsonschema!=2.5.0,>=2.4->nbformat->notebook>=3.0->tutormagic) (0.15.4)\n",
      "Requirement already satisfied: webencodings in c:\\users\\administrador\\anaconda3\\lib\\site-packages (from bleach->nbconvert->notebook>=3.0->tutormagic) (0.5.1)\n",
      "Requirement already satisfied: wcwidth in c:\\users\\administrador\\anaconda3\\lib\\site-packages (from prompt-toolkit<2.1.0,>=2.0.0->ipython>=5.0.0->ipykernel->notebook>=3.0->tutormagic) (0.1.7)\n",
      "Requirement already satisfied: parso>=0.5.0 in c:\\users\\administrador\\anaconda3\\lib\\site-packages (from jedi>=0.10->ipython>=5.0.0->ipykernel->notebook>=3.0->tutormagic) (0.5.1)\n",
      "Note: you may need to restart the kernel to use updated packages.\n"
     ]
    }
   ],
   "source": [
    "%pip install tutormagic\n",
    "%load_ext tutormagic"
   ]
  },
  {
   "cell_type": "code",
   "execution_count": 6,
   "metadata": {},
   "outputs": [
    {
     "data": {
      "text/html": [
       "<div class=\"text-center\"><strong><a style=\"box-sizing: border-box; padding: 0 5px; border: 1px solid #CFCFCF;\" target=\"_\" href=http://pythontutor.com/iframe-embed.html#code=%0Aa%20%3D%2035%0Ab%20%3D%2030%0A%0Avalue_min%20%3D%20min%28a%2C%20b%29%0A%0Afor%20i%20in%20range%281%2C%20value_min%2B1%29%3A%0A%20%20%20%20%0A%20%20%20%20if%20%28a%25i%20%3D%3D%200%29%20and%20%28b%25i%20%3D%3D%200%29%3A%0A%20%20%20%20%20%20%20%20d_max%20%3D%20i%0A%20%20%20%20%20%20%20%20%0Aprint%28%22El%20MCD%20es%22%2C%20d_max%29%0A&origin=opt-frontend.js&cumulative=false&heapPrimitives=false&textReferences=false&curInstr=0&&verticalStack=false&py=3&rawInputLstJSON=%5B%5D&codeDivWidth=50%25&codeDivHeight=100%25>Python Tutor</a></strong></div>"
      ],
      "text/plain": [
       "<IPython.core.display.HTML object>"
      ]
     },
     "metadata": {},
     "output_type": "display_data"
    },
    {
     "name": "stdout",
     "output_type": "stream",
     "text": [
      "El MCD es 5\n"
     ]
    }
   ],
   "source": [
    "%%tutor -k -r\n",
    "\n",
    "a = 35\n",
    "b = 30\n",
    "\n",
    "value_min = min(a, b)\n",
    "\n",
    "for i in range(1, value_min+1):\n",
    "    \n",
    "    if (a%i == 0) and (b%i == 0):\n",
    "        d_max = i\n",
    "        \n",
    "print(\"El MCD es\", d_max)"
   ]
  },
  {
   "cell_type": "code",
   "execution_count": null,
   "metadata": {},
   "outputs": [],
   "source": []
  },
  {
   "cell_type": "markdown",
   "metadata": {
    "colab_type": "text",
    "id": "43zL7FrOTK0G"
   },
   "source": [
    "# Tipos de datos en Python"
   ]
  },
  {
   "cell_type": "markdown",
   "metadata": {
    "colab_type": "text",
    "id": "I549p-zsQudo"
   },
   "source": [
    "\n",
    "\n",
    "\n",
    "Veamos algunos tipos de datos útiles en Phyton (estos no son todos)"
   ]
  },
  {
   "cell_type": "markdown",
   "metadata": {
    "colab_type": "text",
    "id": "HbSgLAcYT6jL"
   },
   "source": [
    "**LISTAS**\n",
    "\n",
    "\n",
    "Las listas son arreglos de elementos, que pueden ser de distinto tipo. Se definen con corchetes."
   ]
  },
  {
   "cell_type": "code",
   "execution_count": 30,
   "metadata": {
    "colab": {
     "base_uri": "https://localhost:8080/",
     "height": 34
    },
    "colab_type": "code",
    "id": "19RtuVJ2Tx_4",
    "outputId": "52582724-b7c4-4d67-ede2-e1308c71e883"
   },
   "outputs": [
    {
     "name": "stdout",
     "output_type": "stream",
     "text": [
      "[180.5, 175, 160, 196, 200]\n"
     ]
    }
   ],
   "source": [
    "Estatura_asistentes = [180.5, 175, 160, 196, 200]\n",
    "\n",
    "print(Estatura_asistentes)"
   ]
  },
  {
   "cell_type": "code",
   "execution_count": 23,
   "metadata": {},
   "outputs": [
    {
     "data": {
      "text/plain": [
       "200"
      ]
     },
     "execution_count": 23,
     "metadata": {},
     "output_type": "execute_result"
    }
   ],
   "source": [
    "Estatura_asistentes[4]"
   ]
  },
  {
   "cell_type": "code",
   "execution_count": 25,
   "metadata": {},
   "outputs": [
    {
     "data": {
      "text/plain": [
       "[180, 175, 160, 196]"
      ]
     },
     "execution_count": 25,
     "metadata": {},
     "output_type": "execute_result"
    }
   ],
   "source": [
    "Estatura_asistentes[0:4] #Slicing"
   ]
  },
  {
   "cell_type": "code",
   "execution_count": 27,
   "metadata": {},
   "outputs": [
    {
     "data": {
      "text/plain": [
       "196"
      ]
     },
     "execution_count": 27,
     "metadata": {},
     "output_type": "execute_result"
    }
   ],
   "source": [
    "Estatura_asistentes[-2]"
   ]
  },
  {
   "cell_type": "code",
   "execution_count": 28,
   "metadata": {},
   "outputs": [
    {
     "data": {
      "text/plain": [
       "[160, 175, 180, 196, 200]"
      ]
     },
     "execution_count": 28,
     "metadata": {},
     "output_type": "execute_result"
    }
   ],
   "source": [
    "sorted(Estatura_asistentes)"
   ]
  },
  {
   "cell_type": "code",
   "execution_count": null,
   "metadata": {},
   "outputs": [],
   "source": []
  },
  {
   "cell_type": "code",
   "execution_count": 9,
   "metadata": {
    "colab": {
     "base_uri": "https://localhost:8080/",
     "height": 34
    },
    "colab_type": "code",
    "id": "7VdI8gFYUICh",
    "outputId": "0effa754-25c7-4526-b03e-0041c87cec44"
   },
   "outputs": [
    {
     "data": {
      "text/plain": [
       "list"
      ]
     },
     "execution_count": 9,
     "metadata": {},
     "output_type": "execute_result"
    }
   ],
   "source": [
    "type(Estatura_asistentes)"
   ]
  },
  {
   "cell_type": "code",
   "execution_count": 11,
   "metadata": {
    "colab": {
     "base_uri": "https://localhost:8080/",
     "height": 34
    },
    "colab_type": "code",
    "id": "kuniM2-QUbt4",
    "outputId": "044d4423-6f9c-4d5b-93eb-b759f0cbaae1"
   },
   "outputs": [
    {
     "data": {
      "text/plain": [
       "200"
      ]
     },
     "execution_count": 11,
     "metadata": {},
     "output_type": "execute_result"
    }
   ],
   "source": [
    "max(Estatura_asistentes)"
   ]
  },
  {
   "cell_type": "code",
   "execution_count": 12,
   "metadata": {
    "colab": {
     "base_uri": "https://localhost:8080/",
     "height": 34
    },
    "colab_type": "code",
    "id": "DvkkRlFRUv1t",
    "outputId": "f18a36b0-a490-4e72-bdf2-6ab3f123ae47"
   },
   "outputs": [
    {
     "data": {
      "text/plain": [
       "911"
      ]
     },
     "execution_count": 12,
     "metadata": {},
     "output_type": "execute_result"
    }
   ],
   "source": [
    "sum(Estatura_asistentes)"
   ]
  },
  {
   "cell_type": "code",
   "execution_count": 13,
   "metadata": {
    "colab": {
     "base_uri": "https://localhost:8080/",
     "height": 34
    },
    "colab_type": "code",
    "id": "pwIdLg09U6q1",
    "outputId": "31b190dc-aaa3-47de-a867-6621f52c62cb"
   },
   "outputs": [
    {
     "data": {
      "text/plain": [
       "5"
      ]
     },
     "execution_count": 13,
     "metadata": {},
     "output_type": "execute_result"
    }
   ],
   "source": [
    "len(Estatura_asistentes)"
   ]
  },
  {
   "cell_type": "code",
   "execution_count": 15,
   "metadata": {},
   "outputs": [
    {
     "name": "stdout",
     "output_type": "stream",
     "text": [
      "182.2\n"
     ]
    }
   ],
   "source": [
    "avg = sum(Estatura_asistentes)/len(Estatura_asistentes)\n",
    "\n",
    "print(avg)"
   ]
  },
  {
   "cell_type": "code",
   "execution_count": 16,
   "metadata": {},
   "outputs": [],
   "source": [
    "my_list = ['a', 'b', 'c']\n"
   ]
  },
  {
   "cell_type": "code",
   "execution_count": 17,
   "metadata": {
    "colab": {
     "base_uri": "https://localhost:8080/",
     "height": 34
    },
    "colab_type": "code",
    "id": "iuh64vsCU3Cx",
    "outputId": "a83c4f20-1c65-4d77-f1d7-2eac9b604260"
   },
   "outputs": [],
   "source": [
    "my_list2 = ['d', 'e', 'f']"
   ]
  },
  {
   "cell_type": "code",
   "execution_count": 19,
   "metadata": {
    "colab": {
     "base_uri": "https://localhost:8080/",
     "height": 34
    },
    "colab_type": "code",
    "id": "AQ2vJJgzVjDO",
    "outputId": "b99d33ce-ea16-402d-b86a-23cc6673a5e6"
   },
   "outputs": [
    {
     "data": {
      "text/plain": [
       "['a', 'b', 'c', 'd', 'e', 'f']"
      ]
     },
     "execution_count": 19,
     "metadata": {},
     "output_type": "execute_result"
    }
   ],
   "source": [
    "my_list + my_list2"
   ]
  },
  {
   "cell_type": "code",
   "execution_count": 20,
   "metadata": {
    "colab": {
     "base_uri": "https://localhost:8080/",
     "height": 34
    },
    "colab_type": "code",
    "id": "OzdAbgcVsOoX",
    "outputId": "6c4058c9-4a7a-4f3a-9733-21a874125764"
   },
   "outputs": [
    {
     "name": "stdout",
     "output_type": "stream",
     "text": [
      "[1, 'b', 'palabra']\n"
     ]
    }
   ],
   "source": [
    "combined_list = [1, 'b', 'palabra']\n",
    "\n",
    "print(combined_list)"
   ]
  },
  {
   "cell_type": "code",
   "execution_count": 21,
   "metadata": {
    "colab": {
     "base_uri": "https://localhost:8080/",
     "height": 34
    },
    "colab_type": "code",
    "id": "LDXqHVQqs_In",
    "outputId": "98328114-3e7f-4b16-f6a1-9b3c31236cb2"
   },
   "outputs": [
    {
     "ename": "TypeError",
     "evalue": "unsupported operand type(s) for +: 'int' and 'str'",
     "output_type": "error",
     "traceback": [
      "\u001b[1;31m---------------------------------------------------------------------------\u001b[0m",
      "\u001b[1;31mTypeError\u001b[0m                                 Traceback (most recent call last)",
      "\u001b[1;32m<ipython-input-21-c1ece4527ca6>\u001b[0m in \u001b[0;36m<module>\u001b[1;34m\u001b[0m\n\u001b[1;32m----> 1\u001b[1;33m \u001b[0msum\u001b[0m\u001b[1;33m(\u001b[0m\u001b[0mcombined_list\u001b[0m\u001b[1;33m)\u001b[0m\u001b[1;33m\u001b[0m\u001b[1;33m\u001b[0m\u001b[0m\n\u001b[0m",
      "\u001b[1;31mTypeError\u001b[0m: unsupported operand type(s) for +: 'int' and 'str'"
     ]
    }
   ],
   "source": [
    "sum(combined_list)"
   ]
  },
  {
   "cell_type": "code",
   "execution_count": 31,
   "metadata": {},
   "outputs": [
    {
     "data": {
      "text/plain": [
       "float"
      ]
     },
     "execution_count": 31,
     "metadata": {},
     "output_type": "execute_result"
    }
   ],
   "source": [
    "type(Estatura_asistentes[0])"
   ]
  },
  {
   "cell_type": "code",
   "execution_count": 43,
   "metadata": {},
   "outputs": [
    {
     "name": "stdout",
     "output_type": "stream",
     "text": [
      "[180.5, 175, 160, 196, 200]\n"
     ]
    }
   ],
   "source": [
    "Estatura_asistentes = [180.5, 175, 160, 196, 200]\n",
    "\n",
    "print(Estatura_asistentes)"
   ]
  },
  {
   "cell_type": "code",
   "execution_count": 35,
   "metadata": {},
   "outputs": [],
   "source": [
    "Estatura_asistentes[0] = 170.5 #Las listas me permiten reemplazar, eliminar y adicionar valores"
   ]
  },
  {
   "cell_type": "code",
   "execution_count": 44,
   "metadata": {},
   "outputs": [
    {
     "name": "stdout",
     "output_type": "stream",
     "text": [
      "[170.5, 175, 160, 196, 200]\n"
     ]
    }
   ],
   "source": [
    "print(Estatura_asistentes)"
   ]
  },
  {
   "cell_type": "code",
   "execution_count": 45,
   "metadata": {},
   "outputs": [
    {
     "name": "stdout",
     "output_type": "stream",
     "text": [
      "[180.5, 175, 160, 196, 200, 183, 183]\n"
     ]
    }
   ],
   "source": [
    "# Agregar un nuevo valor al final de la lista\n",
    "\n",
    "Estatura_asistentes.append(183)\n",
    "\n",
    "print(Estatura_asistentes)"
   ]
  },
  {
   "cell_type": "code",
   "execution_count": 46,
   "metadata": {},
   "outputs": [
    {
     "name": "stdout",
     "output_type": "stream",
     "text": [
      "[180.5, 175, 160, 196, 200, 183]\n"
     ]
    }
   ],
   "source": [
    "# Eliminar un elemento\n",
    "\n",
    "Estatura_asistentes.remove(183)\n",
    "\n",
    "print(Estatura_asistentes)"
   ]
  },
  {
   "cell_type": "code",
   "execution_count": null,
   "metadata": {},
   "outputs": [],
   "source": []
  },
  {
   "cell_type": "code",
   "execution_count": null,
   "metadata": {},
   "outputs": [],
   "source": []
  },
  {
   "cell_type": "code",
   "execution_count": null,
   "metadata": {},
   "outputs": [],
   "source": []
  },
  {
   "cell_type": "markdown",
   "metadata": {
    "colab_type": "text",
    "id": "IWle5WQ5SGap"
   },
   "source": [
    "**STRING**\n",
    "\n",
    "Los String, como vimos antes, se definen como listas de carácteres:"
   ]
  },
  {
   "cell_type": "code",
   "execution_count": 32,
   "metadata": {
    "colab": {},
    "colab_type": "code",
    "id": "AQIGZQfcR_9n"
   },
   "outputs": [],
   "source": [
    "mensaje = \"Ecopetrol, energía que transforma\"\n",
    "mensaje2 = \"Es genial!\""
   ]
  },
  {
   "cell_type": "code",
   "execution_count": 33,
   "metadata": {
    "colab": {
     "base_uri": "https://localhost:8080/",
     "height": 35
    },
    "colab_type": "code",
    "id": "RcAxsuNGQtFe",
    "outputId": "88610737-47b2-4256-b41d-75da4b8790f8"
   },
   "outputs": [
    {
     "data": {
      "text/plain": [
       "'Ecopetrol, energía que transformaEs genial!'"
      ]
     },
     "execution_count": 33,
     "metadata": {},
     "output_type": "execute_result"
    }
   ],
   "source": [
    "mensaje + mensaje2"
   ]
  },
  {
   "cell_type": "code",
   "execution_count": 35,
   "metadata": {
    "colab": {
     "base_uri": "https://localhost:8080/",
     "height": 35
    },
    "colab_type": "code",
    "id": "XRaAy-g-SmdN",
    "outputId": "f38eb0b9-1a98-43b8-c184-a89582ae032a"
   },
   "outputs": [
    {
     "data": {
      "text/plain": [
       "'Ecopetrol'"
      ]
     },
     "execution_count": 35,
     "metadata": {},
     "output_type": "execute_result"
    }
   ],
   "source": [
    "mensaje[0:9]"
   ]
  },
  {
   "cell_type": "code",
   "execution_count": 37,
   "metadata": {
    "colab": {
     "base_uri": "https://localhost:8080/",
     "height": 35
    },
    "colab_type": "code",
    "id": "xR7jOp6fSqX8",
    "outputId": "4594cce7-7e9f-410a-acbe-9dd5f2edd9f2"
   },
   "outputs": [
    {
     "data": {
      "text/plain": [
       "'ECOPETROL, ENERGÍA QUE TRANSFORMA'"
      ]
     },
     "execution_count": 37,
     "metadata": {},
     "output_type": "execute_result"
    }
   ],
   "source": [
    "mensaje.upper()"
   ]
  },
  {
   "cell_type": "code",
   "execution_count": 38,
   "metadata": {
    "colab": {
     "base_uri": "https://localhost:8080/",
     "height": 35
    },
    "colab_type": "code",
    "id": "XS-kl4gBSsPd",
    "outputId": "253b5fcc-9bcb-46cb-aa89-33e6cf697b4f"
   },
   "outputs": [
    {
     "data": {
      "text/plain": [
       "4"
      ]
     },
     "execution_count": 38,
     "metadata": {},
     "output_type": "execute_result"
    }
   ],
   "source": [
    "mensaje.count('e')"
   ]
  },
  {
   "cell_type": "code",
   "execution_count": null,
   "metadata": {
    "colab": {
     "base_uri": "https://localhost:8080/",
     "height": 34
    },
    "colab_type": "code",
    "id": "qiAgyTHFS9yq",
    "outputId": "3b899cec-8635-4763-ced2-c2f232a3c603"
   },
   "outputs": [],
   "source": []
  },
  {
   "cell_type": "markdown",
   "metadata": {
    "colab_type": "text",
    "id": "QG51XGGgWk6d"
   },
   "source": [
    "**TUPLAS**\n",
    "\n",
    "Las tuplas son arreglos **inmutables** de varios tipos de datos. Es decir que a diferencia de una lista, no podemos agregar, eliminar o modificar los valores dentro de la tupla. Las tuplas las definimos entre paréntesis:\n"
   ]
  },
  {
   "cell_type": "code",
   "execution_count": 48,
   "metadata": {
    "colab": {
     "base_uri": "https://localhost:8080/",
     "height": 34
    },
    "colab_type": "code",
    "id": "bGEB9SYVWhfk",
    "outputId": "affdeede-816f-43be-b8bb-cef7b8496f75"
   },
   "outputs": [
    {
     "name": "stdout",
     "output_type": "stream",
     "text": [
      "(1, 2, 3, 4)\n"
     ]
    }
   ],
   "source": [
    "my_tuple = (1, 2, 3, 4)\n",
    "\n",
    "print(my_tuple)"
   ]
  },
  {
   "cell_type": "code",
   "execution_count": 40,
   "metadata": {
    "colab": {
     "base_uri": "https://localhost:8080/",
     "height": 34
    },
    "colab_type": "code",
    "id": "s_7ZDO8dTFNW",
    "outputId": "d2ba5ebe-c272-4417-ee0e-85f1984f964b"
   },
   "outputs": [
    {
     "data": {
      "text/plain": [
       "tuple"
      ]
     },
     "execution_count": 40,
     "metadata": {},
     "output_type": "execute_result"
    }
   ],
   "source": [
    "type(my_tuple)"
   ]
  },
  {
   "cell_type": "code",
   "execution_count": 49,
   "metadata": {
    "colab": {
     "base_uri": "https://localhost:8080/",
     "height": 203
    },
    "colab_type": "code",
    "id": "S7rawOAAXJ0D",
    "outputId": "a78c5a01-c677-4244-a1ad-14e807f0f3c5"
   },
   "outputs": [
    {
     "name": "stdout",
     "output_type": "stream",
     "text": [
      "(1, 2, 3, 4, 'mensaje')\n"
     ]
    }
   ],
   "source": [
    "my_tuple = (1, 2, 3, 4, 'mensaje')\n",
    "\n",
    "print(my_tuple)"
   ]
  },
  {
   "cell_type": "code",
   "execution_count": 50,
   "metadata": {
    "colab": {},
    "colab_type": "code",
    "id": "Y4hNJWtfXgVH"
   },
   "outputs": [
    {
     "ename": "TypeError",
     "evalue": "'tuple' object does not support item assignment",
     "output_type": "error",
     "traceback": [
      "\u001b[1;31m---------------------------------------------------------------------------\u001b[0m",
      "\u001b[1;31mTypeError\u001b[0m                                 Traceback (most recent call last)",
      "\u001b[1;32m<ipython-input-50-8a0955bcdf4d>\u001b[0m in \u001b[0;36m<module>\u001b[1;34m\u001b[0m\n\u001b[1;32m----> 1\u001b[1;33m \u001b[0mmy_tuple\u001b[0m\u001b[1;33m[\u001b[0m\u001b[1;36m0\u001b[0m\u001b[1;33m]\u001b[0m \u001b[1;33m=\u001b[0m \u001b[1;36m3\u001b[0m\u001b[1;33m\u001b[0m\u001b[1;33m\u001b[0m\u001b[0m\n\u001b[0m",
      "\u001b[1;31mTypeError\u001b[0m: 'tuple' object does not support item assignment"
     ]
    }
   ],
   "source": [
    "my_tuple[0] = 3  #En el caso de las tuplas, no es posible modificar los elementos dentro de la tupla."
   ]
  },
  {
   "cell_type": "markdown",
   "metadata": {
    "colab_type": "text",
    "id": "1ApdsxVRYXad"
   },
   "source": [
    "**CONJUNTOS O SETS**"
   ]
  },
  {
   "cell_type": "markdown",
   "metadata": {
    "colab_type": "text",
    "id": "mMsckGeTlCow"
   },
   "source": [
    "Es una colección de elementos que no están ordenados ni indexados. Para crear estos set utilizamos los corchetes:"
   ]
  },
  {
   "cell_type": "code",
   "execution_count": 47,
   "metadata": {
    "colab": {
     "base_uri": "https://localhost:8080/",
     "height": 34
    },
    "colab_type": "code",
    "id": "a7TrArNElCG8",
    "outputId": "087d7b89-51fb-4fd3-da94-a316e3f63211"
   },
   "outputs": [],
   "source": [
    "my_set = {1, 2, 3}"
   ]
  },
  {
   "cell_type": "code",
   "execution_count": 48,
   "metadata": {
    "colab": {
     "base_uri": "https://localhost:8080/",
     "height": 34
    },
    "colab_type": "code",
    "id": "7bbJ0sYGYe3d",
    "outputId": "7f8dd9ef-e8af-48f1-c77e-644f81c69efe"
   },
   "outputs": [
    {
     "ename": "TypeError",
     "evalue": "'set' object is not subscriptable",
     "output_type": "error",
     "traceback": [
      "\u001b[1;31m---------------------------------------------------------------------------\u001b[0m",
      "\u001b[1;31mTypeError\u001b[0m                                 Traceback (most recent call last)",
      "\u001b[1;32m<ipython-input-48-158c424478a1>\u001b[0m in \u001b[0;36m<module>\u001b[1;34m\u001b[0m\n\u001b[1;32m----> 1\u001b[1;33m \u001b[0mmy_set\u001b[0m\u001b[1;33m[\u001b[0m\u001b[1;36m0\u001b[0m\u001b[1;33m]\u001b[0m\u001b[1;33m\u001b[0m\u001b[1;33m\u001b[0m\u001b[0m\n\u001b[0m",
      "\u001b[1;31mTypeError\u001b[0m: 'set' object is not subscriptable"
     ]
    }
   ],
   "source": [
    "my_set[0]"
   ]
  },
  {
   "cell_type": "code",
   "execution_count": 50,
   "metadata": {
    "colab": {
     "base_uri": "https://localhost:8080/",
     "height": 34
    },
    "colab_type": "code",
    "id": "OJppeLiEYWZI",
    "outputId": "acd43dbc-3cd0-417a-e378-e5302571eadf"
   },
   "outputs": [],
   "source": [
    "my_set2 = {'mensaje', 1, 3, 4}"
   ]
  },
  {
   "cell_type": "code",
   "execution_count": 51,
   "metadata": {
    "colab": {},
    "colab_type": "code",
    "id": "BmnIAdnXl_oR"
   },
   "outputs": [
    {
     "data": {
      "text/plain": [
       "{1, 3, 4, 'mensaje'}"
      ]
     },
     "execution_count": 51,
     "metadata": {},
     "output_type": "execute_result"
    }
   ],
   "source": [
    "my_set2"
   ]
  },
  {
   "cell_type": "markdown",
   "metadata": {
    "colab_type": "text",
    "id": "BWmBbJsvm-p6"
   },
   "source": [
    "**DICCIONARIOS**"
   ]
  },
  {
   "cell_type": "markdown",
   "metadata": {
    "colab_type": "text",
    "id": "sY3C3GH0O9Am"
   },
   "source": [
    "Los Diccionarios en Python es una colección no indexada de datos que se compone de dos partes: 'keys' y 'values'. Son muy utilizados en análisis de datos porque nos permiten relacionar dos tipos de elementos, p. ej. un diccionario inglés-español, los códigos que utiliza cada usuario en una página web, entre otras. Los Diccionarios deben escribirse en llaves de la siguiente forma:\n",
    "\n",
    "```\n",
    "Dictionary = {key1:value1, keys2:value2, key3:value3...}\n",
    "```"
   ]
  },
  {
   "cell_type": "markdown",
   "metadata": {
    "colab_type": "text",
    "id": "TKc5WslaSYiD"
   },
   "source": [
    "Veamos un ejemplo de un Diccionario que contiene palabras la traducción de palabras inglés a español"
   ]
  },
  {
   "cell_type": "code",
   "execution_count": 55,
   "metadata": {},
   "outputs": [
    {
     "data": {
      "text/plain": [
       "{'Yellow': 'Amarillo', 'Blue': 'Azul', 'Black': 'Negro'}"
      ]
     },
     "execution_count": 55,
     "metadata": {},
     "output_type": "execute_result"
    }
   ],
   "source": [
    "# Esta es una forma de crear diccionarios\n",
    "\n",
    "eng2spa = {\"Yellow\":'Amarillo', 'Blue':'Azul', 'Black': 'Negro'}\n",
    "\n",
    "eng2spa\n"
   ]
  },
  {
   "cell_type": "code",
   "execution_count": 56,
   "metadata": {
    "colab": {
     "base_uri": "https://localhost:8080/",
     "height": 34
    },
    "colab_type": "code",
    "id": "-aScdadZSjMA",
    "outputId": "f5f8acbe-8958-4b39-d83d-806dda2ae7ce"
   },
   "outputs": [],
   "source": [
    "# Esta es otra forma de crear diccionarios\n",
    "\n",
    "eng2spa = {}\n",
    "\n",
    "eng2spa[\"yellow\"] = 'Amarillo'\n",
    "eng2spa[\"blue\"] = 'Azul'\n",
    "eng2spa[\"black\"] = 'Negro'\n",
    "\n",
    "\n"
   ]
  },
  {
   "cell_type": "code",
   "execution_count": 57,
   "metadata": {},
   "outputs": [
    {
     "data": {
      "text/plain": [
       "{'yellow': 'Amarillo', 'blue': 'Azul', 'black': 'Negro'}"
      ]
     },
     "execution_count": 57,
     "metadata": {},
     "output_type": "execute_result"
    }
   ],
   "source": [
    "eng2spa"
   ]
  },
  {
   "cell_type": "markdown",
   "metadata": {
    "colab_type": "text",
    "id": "Y_8uv4U4TELP"
   },
   "source": [
    "Para los diccionarios, al ser una lista no indexada, no es posible consultar valores por medio de números, se hace por medio de claves."
   ]
  },
  {
   "cell_type": "code",
   "execution_count": 55,
   "metadata": {
    "colab": {
     "base_uri": "https://localhost:8080/",
     "height": 167
    },
    "colab_type": "code",
    "id": "YkaLR-jBm-RJ",
    "outputId": "4f46b9ed-c51f-4d3f-a9c2-aedc1944960b"
   },
   "outputs": [
    {
     "data": {
      "text/plain": [
       "'Amarillo'"
      ]
     },
     "execution_count": 55,
     "metadata": {},
     "output_type": "execute_result"
    }
   ],
   "source": [
    "eng2spa['yellow']"
   ]
  },
  {
   "cell_type": "code",
   "execution_count": 56,
   "metadata": {
    "colab": {
     "base_uri": "https://localhost:8080/",
     "height": 35
    },
    "colab_type": "code",
    "id": "19WBRQSnTTtE",
    "outputId": "799eb957-e95e-49e6-c5dc-8018451a3981"
   },
   "outputs": [
    {
     "data": {
      "text/plain": [
       "dict_keys(['yellow', 'blue', 'black'])"
      ]
     },
     "execution_count": 56,
     "metadata": {},
     "output_type": "execute_result"
    }
   ],
   "source": [
    "eng2spa.keys()"
   ]
  },
  {
   "cell_type": "code",
   "execution_count": 57,
   "metadata": {
    "colab": {
     "base_uri": "https://localhost:8080/",
     "height": 35
    },
    "colab_type": "code",
    "id": "QZKtNiojTa4K",
    "outputId": "2bd36e4e-ef69-4b0c-a819-2d975abf081f"
   },
   "outputs": [
    {
     "data": {
      "text/plain": [
       "dict_values(['Amarillo', 'Azul', 'Negro'])"
      ]
     },
     "execution_count": 57,
     "metadata": {},
     "output_type": "execute_result"
    }
   ],
   "source": [
    "eng2spa.values()"
   ]
  },
  {
   "cell_type": "markdown",
   "metadata": {
    "colab_type": "text",
    "id": "PfcQCtAqlQ06"
   },
   "source": [
    "# Funciones\n",
    "\n",
    "Hasta ahora hemos vimos visto algunas funciones como `print()`, `type()` o `len()` (para las listas), pero no hemos visto su trasfondo.\n",
    "\n",
    "Como en cualquier otro lenguaje, en *Python* también es posible definir funciones, es decir, secuencias de instrucciones que reciben una o varias entradas, ejecutan algunas operaciones sobre ellos y devuelven uno o varios resultados.\n",
    "\n",
    "Los valores de entrada, también llamados argumentos o parámetros reales, son necesarios para que la función ejecute la tarea.\n",
    "\n",
    "Para definir una función:\n",
    " \n",
    "\n",
    "1.   Se usa la palabra clave `def`, seguido por el nombre de la función, entre paréntesis los datos de entrada o parámetros y `:`\n",
    "2.   Las siguientes líneas serán las intrucciones a ejecutar. Es importante resaltar que todas las intrucciones de una función en Python deben estar indentadas.\n",
    "3.  Finalmente si la función tiene una salida numérica, debe ir precedida por `return`.\n",
    "\n",
    "\n",
    "\n",
    "```python\n",
    "def NOMBRE(LISTA DE ARGUMENTOS):\n",
    "    INSTRUCCIONES\n",
    "    return VALOR\n",
    "```\n",
    "\n",
    "\n",
    "```python\n",
    "def NOMBRE(LISTA DE ARGUMENTOS):\n",
    "    INSTRUCCIONES\n",
    "    print(VALOR)\n",
    "```\n",
    "\n",
    "La línea que contiene el `return` (o `print`) es opcional, pues no todas las funciones deben retornar algo. Por ejemplo, hay algunas que sólo modifican los valores de ciertas variables, por lo que no necesitan retornar o imprimir ningún valor."
   ]
  },
  {
   "cell_type": "code",
   "execution_count": 62,
   "metadata": {
    "colab": {},
    "colab_type": "code",
    "id": "eYShhJAnuBTZ"
   },
   "outputs": [],
   "source": [
    "def mi_duplicar(x):\n",
    "    \n",
    "\n",
    "    x = int(x)\n",
    "    \n",
    "    y = x**0.5\n",
    "    \n",
    "    return y"
   ]
  },
  {
   "cell_type": "code",
   "execution_count": 59,
   "metadata": {
    "colab": {
     "base_uri": "https://localhost:8080/",
     "height": 34
    },
    "colab_type": "code",
    "id": "afRBUp6IuZJX",
    "outputId": "385e5581-7e21-460f-bb5b-a83537d87f55"
   },
   "outputs": [
    {
     "data": {
      "text/plain": [
       "90"
      ]
     },
     "execution_count": 59,
     "metadata": {},
     "output_type": "execute_result"
    }
   ],
   "source": [
    "mi_duplicar(45)"
   ]
  },
  {
   "cell_type": "code",
   "execution_count": 60,
   "metadata": {
    "colab": {
     "base_uri": "https://localhost:8080/",
     "height": 34
    },
    "colab_type": "code",
    "id": "Eqfm2TUeub-K",
    "outputId": "49857eb8-abad-47b1-be26-4eaca647db18"
   },
   "outputs": [
    {
     "data": {
      "text/plain": [
       "600.2"
      ]
     },
     "execution_count": 60,
     "metadata": {},
     "output_type": "execute_result"
    }
   ],
   "source": [
    "mi_duplicar(300.1)"
   ]
  },
  {
   "cell_type": "markdown",
   "metadata": {
    "colab_type": "text",
    "id": "zg10GiVguxZ-"
   },
   "source": [
    "Creemos una función que nos permita hacer la conversión de unidades de temperatura, pasar de ºC  a ºF. Recordemos la regla de conversión:\n",
    "\n",
    "$ºF = 1.8*ºC + 32$"
   ]
  },
  {
   "cell_type": "code",
   "execution_count": 66,
   "metadata": {
    "colab": {},
    "colab_type": "code",
    "id": "P8hGYJxPkprE"
   },
   "outputs": [],
   "source": [
    "def convtemp(celsius):\n",
    "    F = 1.8 * celsius +32\n",
    "    \n",
    "    return F"
   ]
  },
  {
   "cell_type": "code",
   "execution_count": 67,
   "metadata": {
    "colab": {
     "base_uri": "https://localhost:8080/",
     "height": 34
    },
    "colab_type": "code",
    "id": "trca3aqxweH0",
    "outputId": "d658ccdb-baab-4b41-aa94-b684e4782453",
    "scrolled": true
   },
   "outputs": [
    {
     "data": {
      "text/plain": [
       "32.0"
      ]
     },
     "execution_count": 67,
     "metadata": {},
     "output_type": "execute_result"
    }
   ],
   "source": [
    "convtemp(0)"
   ]
  },
  {
   "cell_type": "code",
   "execution_count": null,
   "metadata": {},
   "outputs": [],
   "source": []
  },
  {
   "cell_type": "markdown",
   "metadata": {},
   "source": [
    "Construyamos ahora un programa más avanzado. Un conversor de unidades de temperatura que pueda convertir cualquier escala:"
   ]
  },
  {
   "cell_type": "code",
   "execution_count": 3,
   "metadata": {},
   "outputs": [],
   "source": [
    "def convtemp(value, scale1, scale2):\n",
    "\n",
    "    if scale1 == 'c'and scale2 == 'k':\n",
    "        K = value + 273\n",
    "        print (value, 'Celsius is', K, 'Kelvin' )\n",
    "\n",
    "\n",
    "    elif scale1 == 'k'and scale2 == 'c':\n",
    "            C = value - 273\n",
    "            print (value, 'Kelvin is', C, 'Celsius' )\n",
    "\n",
    "\n",
    "    elif scale1 == 'c'and scale2 == 'f':\n",
    "            F = 1.8 * value + 32 \n",
    "            print (value, 'Celsius is', F, 'Fahrenheit' )\n",
    "\n",
    "\n",
    "    elif scale1 == 'f'and scale2 == 'c':\n",
    "            C = (value - 32) * (5/9)\n",
    "            print (value, 'Fahrenheit is', C, 'Celsius' )\n",
    "\n",
    "\n",
    "    elif scale1 == 'k'and scale2 == 'f':\n",
    "            F = 1.8 * value + 32 \n",
    "            print (value, 'Kelvin is', F, 'Fahrenheit' )\n",
    "\n",
    "\n",
    "    elif scale1 == 'f'and scale2 == 'k':\n",
    "            K = ((value - 32) * (5/9)) + 273\n",
    "            print (value, 'Fahrenheit is', K, 'Kelvin' )\n",
    "\n",
    "    else:\n",
    "            print('Por favor ingrese escalas c, k o f')"
   ]
  },
  {
   "cell_type": "code",
   "execution_count": 4,
   "metadata": {},
   "outputs": [
    {
     "name": "stdout",
     "output_type": "stream",
     "text": [
      "0 Celsius is 32.0 Fahrenheit\n"
     ]
    }
   ],
   "source": [
    "convtemp(0,'c','f')"
   ]
  },
  {
   "cell_type": "code",
   "execution_count": 61,
   "metadata": {},
   "outputs": [
    {
     "name": "stdout",
     "output_type": "stream",
     "text": [
      "Por favor ingrese escalas c, k o f\n"
     ]
    }
   ],
   "source": [
    "convtemp(0,'c','h')"
   ]
  },
  {
   "cell_type": "markdown",
   "metadata": {},
   "source": [
    "Crear funciones propias es una práctica muy común y un aspecto muy importante de los lenguajes de programación. Cuando hemos creado muchas funciones y queremos utilizarlas en otros programas, en otro notebook o simplemente darle nuestras funciones a alguien más podemos crear un **module**.\n",
    "\n",
    "**Module** es un archivo .py en el cual podemos ubicar todas nuestras funciones y luego, para importarlas utilizamos la siguiente línea de código:\n",
    "\n",
    "```\n",
    "from NOMBRE_DE_MI_MODULO import *\n",
    "\n",
    "```\n",
    "\n",
    "Una vez importo el modulo que he creado (mi librería) puedo usar las funciones dentro de mi programa. En el caso anterior, la función de conversión de temperatura la guarde en un archivo de texto llamado: mi_libreria.py \n",
    "\n"
   ]
  },
  {
   "cell_type": "code",
   "execution_count": 2,
   "metadata": {
    "colab": {
     "base_uri": "https://localhost:8080/",
     "height": 34
    },
    "colab_type": "code",
    "id": "P-2wel_mwiWl",
    "outputId": "de3be0ae-4fc7-4aaf-be2c-7428959a9edc"
   },
   "outputs": [],
   "source": [
    "from mi_libreria import *"
   ]
  },
  {
   "cell_type": "code",
   "execution_count": 3,
   "metadata": {},
   "outputs": [
    {
     "name": "stdout",
     "output_type": "stream",
     "text": [
      "0 Celsius is 273 Kelvin\n"
     ]
    }
   ],
   "source": [
    "convtemp(0,'c','k')"
   ]
  },
  {
   "cell_type": "markdown",
   "metadata": {
    "colab_type": "text",
    "id": "-EdbNXPnwlUo"
   },
   "source": [
    "El archivo, lo ubiqué en la misma carpeta donde guardo el notebook donde estoy trabajando. En caso de que desee guardar el módulo en una carpeta distinta, debo configurar el nuevo path de la siguiente forma:\n"
   ]
  },
  {
   "cell_type": "code",
   "execution_count": 5,
   "metadata": {
    "colab": {},
    "colab_type": "code",
    "id": "uqZH19Q_wzpV"
   },
   "outputs": [
    {
     "name": "stdout",
     "output_type": "stream",
     "text": [
      "['C:\\\\Users\\\\Administrador\\\\Desktop\\\\Python_curso_2020', 'C:\\\\Users\\\\Administrador\\\\Anaconda3\\\\python37.zip', 'C:\\\\Users\\\\Administrador\\\\Anaconda3\\\\DLLs', 'C:\\\\Users\\\\Administrador\\\\Anaconda3\\\\lib', 'C:\\\\Users\\\\Administrador\\\\Anaconda3', '', 'C:\\\\Users\\\\Administrador\\\\Anaconda3\\\\lib\\\\site-packages', 'C:\\\\Users\\\\Administrador\\\\Anaconda3\\\\lib\\\\site-packages\\\\win32', 'C:\\\\Users\\\\Administrador\\\\Anaconda3\\\\lib\\\\site-packages\\\\win32\\\\lib', 'C:\\\\Users\\\\Administrador\\\\Anaconda3\\\\lib\\\\site-packages\\\\Pythonwin', 'C:\\\\Users\\\\Administrador\\\\Anaconda3\\\\lib\\\\site-packages\\\\IPython\\\\extensions', 'C:\\\\Users\\\\Administrador\\\\.ipython']\n"
     ]
    }
   ],
   "source": [
    "# Al correr esta celda, Python imprime todos los path que están configurados por defecto:\n",
    "\n",
    "import sys\n",
    "\n",
    "print(sys.path)"
   ]
  },
  {
   "cell_type": "code",
   "execution_count": 6,
   "metadata": {},
   "outputs": [
    {
     "name": "stdout",
     "output_type": "stream",
     "text": [
      "['C:\\\\Users\\\\Administrador\\\\Desktop\\\\Python_curso_2020', 'C:\\\\Users\\\\Administrador\\\\Anaconda3\\\\python37.zip', 'C:\\\\Users\\\\Administrador\\\\Anaconda3\\\\DLLs', 'C:\\\\Users\\\\Administrador\\\\Anaconda3\\\\lib', 'C:\\\\Users\\\\Administrador\\\\Anaconda3', '', 'C:\\\\Users\\\\Administrador\\\\Anaconda3\\\\lib\\\\site-packages', 'C:\\\\Users\\\\Administrador\\\\Anaconda3\\\\lib\\\\site-packages\\\\win32', 'C:\\\\Users\\\\Administrador\\\\Anaconda3\\\\lib\\\\site-packages\\\\win32\\\\lib', 'C:\\\\Users\\\\Administrador\\\\Anaconda3\\\\lib\\\\site-packages\\\\Pythonwin', 'C:\\\\Users\\\\Administrador\\\\Anaconda3\\\\lib\\\\site-packages\\\\IPython\\\\extensions', 'C:\\\\Users\\\\Administrador\\\\.ipython', 'C:\\\\Users\\\\Administrador\\\\Documents\\\\Ecopetrol']\n"
     ]
    }
   ],
   "source": [
    "#para agregar un nuevo path:\n",
    "\n",
    "sys.path.append('C:\\\\Users\\\\Administrador\\\\Documents\\\\Ecopetrol') \n",
    "\n",
    "\n",
    "print(sys.path)"
   ]
  },
  {
   "cell_type": "markdown",
   "metadata": {},
   "source": [
    "Al agregar el nuevo path (C:\\Users\\Administrador\\Documents\\Ecopetrol) ya es posible guardar mis códigos en esta nueva carpeta y Python los podrá importar sin inconvenientes. En este caso, hice una copia de mi_libreria.py y le re-nombre a mi_libreria_test ubicada en Documents\\\\Ecopetrol:"
   ]
  },
  {
   "cell_type": "code",
   "execution_count": 7,
   "metadata": {},
   "outputs": [],
   "source": [
    "from mi_libreria_test import *"
   ]
  },
  {
   "cell_type": "code",
   "execution_count": 8,
   "metadata": {
    "scrolled": true
   },
   "outputs": [
    {
     "name": "stdout",
     "output_type": "stream",
     "text": [
      "Variable   Type        Data/Info\n",
      "--------------------------------\n",
      "convtemp   function    <function convtemp at 0x000001CB6F57D558>\n",
      "sys        module      <module 'sys' (built-in)>\n"
     ]
    }
   ],
   "source": [
    "whos"
   ]
  },
  {
   "cell_type": "markdown",
   "metadata": {
    "colab_type": "text",
    "id": "w2qX7AdR5W6M"
   },
   "source": [
    "*Tarea:*\n",
    "\n",
    "Cree una función que útil para realizar un cálculo de su área de experticia."
   ]
  },
  {
   "cell_type": "markdown",
   "metadata": {
    "colab_type": "text",
    "id": "GLDVbXiavuIO"
   },
   "source": [
    "# Algunos Módulos de Python"
   ]
  },
  {
   "cell_type": "markdown",
   "metadata": {
    "colab_type": "text",
    "id": "ZYO3PH6B8vRB"
   },
   "source": [
    "Python tiene muchas funciones incorporadas que podemos usar. Los módulos son archivos que contienen una colección de funciones relacionadas. Veamos el modulo `math`, utilizado para operaciones matemáticas.\n"
   ]
  },
  {
   "cell_type": "code",
   "execution_count": 9,
   "metadata": {
    "colab": {
     "base_uri": "https://localhost:8080/",
     "height": 34
    },
    "colab_type": "code",
    "id": "GLUkYOCo9M5Y",
    "outputId": "0bc4268b-4f4f-4a74-9077-fd7478cb769d"
   },
   "outputs": [
    {
     "data": {
      "text/plain": [
       "7.0"
      ]
     },
     "execution_count": 9,
     "metadata": {},
     "output_type": "execute_result"
    }
   ],
   "source": [
    "import math \n",
    "\n",
    "math.sqrt(49)"
   ]
  },
  {
   "cell_type": "markdown",
   "metadata": {
    "colab_type": "text",
    "id": "C-OYbLVK9Xqt"
   },
   "source": [
    "Para importar las funcinones de un módulo debemos utilizar el comando `import` el cual se encarga de leer las funciones dentro del modulo `math`. Para utilizar una función que se encuentre dentro de un módulo, primero debemos poner el nombre del módulo, seguido por un punto y del nombre de la función: `math.sqrt(..)`.\n",
    "\n",
    "\n",
    "Otras formas de importar modulos:\n"
   ]
  },
  {
   "cell_type": "code",
   "execution_count": 10,
   "metadata": {
    "colab": {},
    "colab_type": "code",
    "id": "4iFio4tI-Rhf"
   },
   "outputs": [],
   "source": [
    "#En este caso, únicamente importamos la función 'sqrt' del módulo math\n",
    "from math import sqrt"
   ]
  },
  {
   "cell_type": "code",
   "execution_count": 11,
   "metadata": {
    "colab": {},
    "colab_type": "code",
    "id": "mgRuPXySkzlD"
   },
   "outputs": [],
   "source": [
    "import math as mt"
   ]
  },
  {
   "cell_type": "code",
   "execution_count": 12,
   "metadata": {
    "colab": {
     "base_uri": "https://localhost:8080/",
     "height": 1000
    },
    "colab_type": "code",
    "id": "JGm0QkvW_4LF",
    "outputId": "f24041a8-ca81-4c46-f5c8-b9e22503842e"
   },
   "outputs": [
    {
     "name": "stdout",
     "output_type": "stream",
     "text": [
      "Help on built-in module math:\n",
      "\n",
      "NAME\n",
      "    math\n",
      "\n",
      "DESCRIPTION\n",
      "    This module provides access to the mathematical functions\n",
      "    defined by the C standard.\n",
      "\n",
      "FUNCTIONS\n",
      "    acos(x, /)\n",
      "        Return the arc cosine (measured in radians) of x.\n",
      "    \n",
      "    acosh(x, /)\n",
      "        Return the inverse hyperbolic cosine of x.\n",
      "    \n",
      "    asin(x, /)\n",
      "        Return the arc sine (measured in radians) of x.\n",
      "    \n",
      "    asinh(x, /)\n",
      "        Return the inverse hyperbolic sine of x.\n",
      "    \n",
      "    atan(x, /)\n",
      "        Return the arc tangent (measured in radians) of x.\n",
      "    \n",
      "    atan2(y, x, /)\n",
      "        Return the arc tangent (measured in radians) of y/x.\n",
      "        \n",
      "        Unlike atan(y/x), the signs of both x and y are considered.\n",
      "    \n",
      "    atanh(x, /)\n",
      "        Return the inverse hyperbolic tangent of x.\n",
      "    \n",
      "    ceil(x, /)\n",
      "        Return the ceiling of x as an Integral.\n",
      "        \n",
      "        This is the smallest integer >= x.\n",
      "    \n",
      "    copysign(x, y, /)\n",
      "        Return a float with the magnitude (absolute value) of x but the sign of y.\n",
      "        \n",
      "        On platforms that support signed zeros, copysign(1.0, -0.0)\n",
      "        returns -1.0.\n",
      "    \n",
      "    cos(x, /)\n",
      "        Return the cosine of x (measured in radians).\n",
      "    \n",
      "    cosh(x, /)\n",
      "        Return the hyperbolic cosine of x.\n",
      "    \n",
      "    degrees(x, /)\n",
      "        Convert angle x from radians to degrees.\n",
      "    \n",
      "    erf(x, /)\n",
      "        Error function at x.\n",
      "    \n",
      "    erfc(x, /)\n",
      "        Complementary error function at x.\n",
      "    \n",
      "    exp(x, /)\n",
      "        Return e raised to the power of x.\n",
      "    \n",
      "    expm1(x, /)\n",
      "        Return exp(x)-1.\n",
      "        \n",
      "        This function avoids the loss of precision involved in the direct evaluation of exp(x)-1 for small x.\n",
      "    \n",
      "    fabs(x, /)\n",
      "        Return the absolute value of the float x.\n",
      "    \n",
      "    factorial(x, /)\n",
      "        Find x!.\n",
      "        \n",
      "        Raise a ValueError if x is negative or non-integral.\n",
      "    \n",
      "    floor(x, /)\n",
      "        Return the floor of x as an Integral.\n",
      "        \n",
      "        This is the largest integer <= x.\n",
      "    \n",
      "    fmod(x, y, /)\n",
      "        Return fmod(x, y), according to platform C.\n",
      "        \n",
      "        x % y may differ.\n",
      "    \n",
      "    frexp(x, /)\n",
      "        Return the mantissa and exponent of x, as pair (m, e).\n",
      "        \n",
      "        m is a float and e is an int, such that x = m * 2.**e.\n",
      "        If x is 0, m and e are both 0.  Else 0.5 <= abs(m) < 1.0.\n",
      "    \n",
      "    fsum(seq, /)\n",
      "        Return an accurate floating point sum of values in the iterable seq.\n",
      "        \n",
      "        Assumes IEEE-754 floating point arithmetic.\n",
      "    \n",
      "    gamma(x, /)\n",
      "        Gamma function at x.\n",
      "    \n",
      "    gcd(x, y, /)\n",
      "        greatest common divisor of x and y\n",
      "    \n",
      "    hypot(x, y, /)\n",
      "        Return the Euclidean distance, sqrt(x*x + y*y).\n",
      "    \n",
      "    isclose(a, b, *, rel_tol=1e-09, abs_tol=0.0)\n",
      "        Determine whether two floating point numbers are close in value.\n",
      "        \n",
      "          rel_tol\n",
      "            maximum difference for being considered \"close\", relative to the\n",
      "            magnitude of the input values\n",
      "          abs_tol\n",
      "            maximum difference for being considered \"close\", regardless of the\n",
      "            magnitude of the input values\n",
      "        \n",
      "        Return True if a is close in value to b, and False otherwise.\n",
      "        \n",
      "        For the values to be considered close, the difference between them\n",
      "        must be smaller than at least one of the tolerances.\n",
      "        \n",
      "        -inf, inf and NaN behave similarly to the IEEE 754 Standard.  That\n",
      "        is, NaN is not close to anything, even itself.  inf and -inf are\n",
      "        only close to themselves.\n",
      "    \n",
      "    isfinite(x, /)\n",
      "        Return True if x is neither an infinity nor a NaN, and False otherwise.\n",
      "    \n",
      "    isinf(x, /)\n",
      "        Return True if x is a positive or negative infinity, and False otherwise.\n",
      "    \n",
      "    isnan(x, /)\n",
      "        Return True if x is a NaN (not a number), and False otherwise.\n",
      "    \n",
      "    ldexp(x, i, /)\n",
      "        Return x * (2**i).\n",
      "        \n",
      "        This is essentially the inverse of frexp().\n",
      "    \n",
      "    lgamma(x, /)\n",
      "        Natural logarithm of absolute value of Gamma function at x.\n",
      "    \n",
      "    log(...)\n",
      "        log(x, [base=math.e])\n",
      "        Return the logarithm of x to the given base.\n",
      "        \n",
      "        If the base not specified, returns the natural logarithm (base e) of x.\n",
      "    \n",
      "    log10(x, /)\n",
      "        Return the base 10 logarithm of x.\n",
      "    \n",
      "    log1p(x, /)\n",
      "        Return the natural logarithm of 1+x (base e).\n",
      "        \n",
      "        The result is computed in a way which is accurate for x near zero.\n",
      "    \n",
      "    log2(x, /)\n",
      "        Return the base 2 logarithm of x.\n",
      "    \n",
      "    modf(x, /)\n",
      "        Return the fractional and integer parts of x.\n",
      "        \n",
      "        Both results carry the sign of x and are floats.\n",
      "    \n",
      "    pow(x, y, /)\n",
      "        Return x**y (x to the power of y).\n",
      "    \n",
      "    radians(x, /)\n",
      "        Convert angle x from degrees to radians.\n",
      "    \n",
      "    remainder(x, y, /)\n",
      "        Difference between x and the closest integer multiple of y.\n",
      "        \n",
      "        Return x - n*y where n*y is the closest integer multiple of y.\n",
      "        In the case where x is exactly halfway between two multiples of\n",
      "        y, the nearest even value of n is used. The result is always exact.\n",
      "    \n",
      "    sin(x, /)\n",
      "        Return the sine of x (measured in radians).\n",
      "    \n",
      "    sinh(x, /)\n",
      "        Return the hyperbolic sine of x.\n",
      "    \n",
      "    sqrt(x, /)\n",
      "        Return the square root of x.\n",
      "    \n",
      "    tan(x, /)\n",
      "        Return the tangent of x (measured in radians).\n",
      "    \n",
      "    tanh(x, /)\n",
      "        Return the hyperbolic tangent of x.\n",
      "    \n",
      "    trunc(x, /)\n",
      "        Truncates the Real x to the nearest Integral toward 0.\n",
      "        \n",
      "        Uses the __trunc__ magic method.\n",
      "\n",
      "DATA\n",
      "    e = 2.718281828459045\n",
      "    inf = inf\n",
      "    nan = nan\n",
      "    pi = 3.141592653589793\n",
      "    tau = 6.283185307179586\n",
      "\n",
      "FILE\n",
      "    (built-in)\n",
      "\n",
      "\n"
     ]
    }
   ],
   "source": [
    "help(math)"
   ]
  },
  {
   "cell_type": "markdown",
   "metadata": {
    "colab_type": "text",
    "id": "mBWhtAvIBA76"
   },
   "source": [
    "**NumPy**\n",
    "\n",
    "\n",
    "NumPy es un paquete fundamental de la computación científica en Python. Este paquete de Python se centra en la manipulación de arreglos 1D (vectores), 2D, 3D y nD (matrices). Cuenta además con funcionalidad útiles de algebra lineal,  transformada de Fourier, números aleatorios, entre otras cosas. \n",
    "\n",
    "Empecemos con algunas operaciones entre vectores:\n",
    "\n"
   ]
  },
  {
   "cell_type": "code",
   "execution_count": 6,
   "metadata": {
    "colab": {},
    "colab_type": "code",
    "id": "W3bO3qr5BArz"
   },
   "outputs": [],
   "source": [
    "import numpy as np"
   ]
  },
  {
   "cell_type": "code",
   "execution_count": 11,
   "metadata": {
    "colab": {
     "base_uri": "https://localhost:8080/",
     "height": 52
    },
    "colab_type": "code",
    "id": "lvmG05qnAcCr",
    "outputId": "aae873d5-4353-4e81-dc05-47f30f9dd826"
   },
   "outputs": [],
   "source": [
    "from numpy import arange"
   ]
  },
  {
   "cell_type": "code",
   "execution_count": 16,
   "metadata": {},
   "outputs": [
    {
     "name": "stdout",
     "output_type": "stream",
     "text": [
      "[1 2 3 4]\n"
     ]
    }
   ],
   "source": [
    "a = np.array([1, 2, 3, 4])\n",
    "\n",
    "print(a)"
   ]
  },
  {
   "cell_type": "code",
   "execution_count": 17,
   "metadata": {
    "colab": {
     "base_uri": "https://localhost:8080/",
     "height": 34
    },
    "colab_type": "code",
    "id": "NXP8wIR38hW-",
    "outputId": "a10e1d28-332d-45e9-bd66-075ae81259ea"
   },
   "outputs": [],
   "source": [
    "b = np.array([6, 7, 8, 9])\n"
   ]
  },
  {
   "cell_type": "code",
   "execution_count": 19,
   "metadata": {
    "colab": {
     "base_uri": "https://localhost:8080/",
     "height": 34
    },
    "colab_type": "code",
    "id": "9eZIFArg8oFD",
    "outputId": "cea8761d-d648-44c1-eef6-be4809a5e37e"
   },
   "outputs": [
    {
     "data": {
      "text/plain": [
       "(4,)"
      ]
     },
     "execution_count": 19,
     "metadata": {},
     "output_type": "execute_result"
    }
   ],
   "source": [
    "np.shape(a)"
   ]
  },
  {
   "cell_type": "code",
   "execution_count": 20,
   "metadata": {
    "colab": {
     "base_uri": "https://localhost:8080/",
     "height": 34
    },
    "colab_type": "code",
    "id": "eF24kTdw7uhu",
    "outputId": "2bebe2a6-8a9d-4f04-b1df-08879a048df0"
   },
   "outputs": [
    {
     "data": {
      "text/plain": [
       "array([ 7,  9, 11, 13])"
      ]
     },
     "execution_count": 20,
     "metadata": {},
     "output_type": "execute_result"
    }
   ],
   "source": [
    "a + b"
   ]
  },
  {
   "cell_type": "code",
   "execution_count": 21,
   "metadata": {
    "colab": {
     "base_uri": "https://localhost:8080/",
     "height": 34
    },
    "colab_type": "code",
    "id": "GP-Isc3q7vZ-",
    "outputId": "9a57291f-d8a0-4261-ef23-1bb430d4ad3a"
   },
   "outputs": [
    {
     "data": {
      "text/plain": [
       "array([ 6, 14, 24, 36])"
      ]
     },
     "execution_count": 21,
     "metadata": {},
     "output_type": "execute_result"
    }
   ],
   "source": [
    "a * b"
   ]
  },
  {
   "cell_type": "code",
   "execution_count": 22,
   "metadata": {
    "colab": {
     "base_uri": "https://localhost:8080/",
     "height": 34
    },
    "colab_type": "code",
    "id": "yGILeMti7vAf",
    "outputId": "14b98b5c-af3e-4244-ae31-d9514c1c1dd6"
   },
   "outputs": [
    {
     "data": {
      "text/plain": [
       "array([2, 4, 6, 8])"
      ]
     },
     "execution_count": 22,
     "metadata": {},
     "output_type": "execute_result"
    }
   ],
   "source": [
    "a * 2"
   ]
  },
  {
   "cell_type": "code",
   "execution_count": null,
   "metadata": {
    "colab": {
     "base_uri": "https://localhost:8080/",
     "height": 34
    },
    "colab_type": "code",
    "id": "eI_heh727uK-",
    "outputId": "da2ae4a3-6ae7-46bf-e4f0-6563ccecf7c2"
   },
   "outputs": [],
   "source": []
  },
  {
   "cell_type": "code",
   "execution_count": 23,
   "metadata": {
    "colab": {
     "base_uri": "https://localhost:8080/",
     "height": 34
    },
    "colab_type": "code",
    "id": "6Js1_zKZ78dl",
    "outputId": "944f60a2-b790-4012-edec-27f97c5ec79c"
   },
   "outputs": [
    {
     "data": {
      "text/plain": [
       "80"
      ]
     },
     "execution_count": 23,
     "metadata": {},
     "output_type": "execute_result"
    }
   ],
   "source": [
    "#Producto punto\n",
    "\n",
    "np.dot(a,b)\n"
   ]
  },
  {
   "cell_type": "code",
   "execution_count": 7,
   "metadata": {
    "colab": {
     "base_uri": "https://localhost:8080/",
     "height": 52
    },
    "colab_type": "code",
    "id": "N1FHoFn88GQY",
    "outputId": "7bfd8d9e-3fcf-4fb8-f6e2-2d053099fc6c"
   },
   "outputs": [
    {
     "name": "stdout",
     "output_type": "stream",
     "text": [
      "[[1 2 3]\n",
      " [4 5 6]]\n"
     ]
    }
   ],
   "source": [
    "#Matrices\n",
    "\n",
    "C = np.array([[1, 2, 3], [4, 5, 6]])\n",
    "\n",
    "print(C)"
   ]
  },
  {
   "cell_type": "code",
   "execution_count": 26,
   "metadata": {
    "colab": {
     "base_uri": "https://localhost:8080/",
     "height": 34
    },
    "colab_type": "code",
    "id": "hpoEPcqX8cvY",
    "outputId": "0ff8b261-97bf-463f-b42f-cced20746d34"
   },
   "outputs": [
    {
     "data": {
      "text/plain": [
       "2"
      ]
     },
     "execution_count": 26,
     "metadata": {},
     "output_type": "execute_result"
    }
   ],
   "source": [
    "C[0,1]"
   ]
  },
  {
   "cell_type": "code",
   "execution_count": 8,
   "metadata": {
    "colab": {
     "base_uri": "https://localhost:8080/",
     "height": 87
    },
    "colab_type": "code",
    "id": "sUV_Vzrz8c8u",
    "outputId": "5d0daadd-e80c-4595-d6e3-9be4e3a790b7"
   },
   "outputs": [
    {
     "name": "stdout",
     "output_type": "stream",
     "text": [
      "[[ 1  2  3  4  5  6]\n",
      " [40  5 63 40  5 63]\n",
      " [ 0  3  6 41  5 63]\n",
      " [43  5 43 40  5 63]]\n"
     ]
    }
   ],
   "source": [
    "#Matrices\n",
    "\n",
    "C = np.array([[1, 2, 3, 4, 5, 6], [40, 5, 63, 40, 5, 63], [0, 3, 6, 41, 5, 63], [43, 5, 43, 40, 5, 63]])\n",
    "\n",
    "print(C)"
   ]
  },
  {
   "cell_type": "code",
   "execution_count": 9,
   "metadata": {
    "colab": {
     "base_uri": "https://localhost:8080/",
     "height": 52
    },
    "colab_type": "code",
    "id": "3c9R73Ar8cW2",
    "outputId": "64800535-5d0e-4376-b3f6-81c008ddc0fa"
   },
   "outputs": [
    {
     "name": "stdout",
     "output_type": "stream",
     "text": [
      "[[ 1  2  3  4]\n",
      " [40  5 63 40]\n",
      " [ 0  3  6 41]]\n"
     ]
    }
   ],
   "source": [
    "C_peq = C[0:3,0:4]\n",
    "\n",
    "print(C_peq)"
   ]
  },
  {
   "cell_type": "code",
   "execution_count": 33,
   "metadata": {
    "colab": {
     "base_uri": "https://localhost:8080/",
     "height": 52
    },
    "colab_type": "code",
    "id": "-nJZWdrB9VsX",
    "outputId": "223ff391-a15e-4a74-a26f-f51bc574fc28"
   },
   "outputs": [
    {
     "data": {
      "text/plain": [
       "(3, 4)"
      ]
     },
     "execution_count": 33,
     "metadata": {},
     "output_type": "execute_result"
    }
   ],
   "source": [
    "np.shape(C_peq)"
   ]
  },
  {
   "cell_type": "code",
   "execution_count": 10,
   "metadata": {},
   "outputs": [
    {
     "data": {
      "text/plain": [
       "array([[ 1, 40,  0],\n",
       "       [ 2,  5,  3],\n",
       "       [ 3, 63,  6],\n",
       "       [ 4, 40, 41]])"
      ]
     },
     "execution_count": 10,
     "metadata": {},
     "output_type": "execute_result"
    }
   ],
   "source": [
    "C_peq.transpose()"
   ]
  },
  {
   "cell_type": "code",
   "execution_count": 13,
   "metadata": {},
   "outputs": [
    {
     "name": "stdout",
     "output_type": "stream",
     "text": [
      "[[0. 0. 0.]\n",
      " [0. 0. 0.]\n",
      " [0. 0. 0.]]\n"
     ]
    }
   ],
   "source": [
    "zeros_matrix = np.zeros([3,3])\n",
    "\n",
    "print(zeros_matrix)"
   ]
  },
  {
   "cell_type": "code",
   "execution_count": 15,
   "metadata": {},
   "outputs": [
    {
     "name": "stdout",
     "output_type": "stream",
     "text": [
      "[[1. 1. 1.]\n",
      " [1. 1. 1.]\n",
      " [1. 1. 1.]]\n"
     ]
    }
   ],
   "source": [
    "ones_matrix = np.ones([3,3])\n",
    "\n",
    "print(ones_matrix)"
   ]
  },
  {
   "cell_type": "code",
   "execution_count": 1,
   "metadata": {
    "colab": {
     "base_uri": "https://localhost:8080/",
     "height": 34
    },
    "colab_type": "code",
    "id": "JUdT8grC9h1D",
    "outputId": "e8c19aa8-9b55-4d76-f72c-e7c899510410"
   },
   "outputs": [
    {
     "ename": "NameError",
     "evalue": "name 'np' is not defined",
     "output_type": "error",
     "traceback": [
      "\u001b[1;31m---------------------------------------------------------------------------\u001b[0m",
      "\u001b[1;31mNameError\u001b[0m                                 Traceback (most recent call last)",
      "\u001b[1;32m<ipython-input-1-549106caa532>\u001b[0m in \u001b[0;36m<module>\u001b[1;34m\u001b[0m\n\u001b[1;32m----> 1\u001b[1;33m \u001b[0mnp\u001b[0m\u001b[1;33m.\u001b[0m\u001b[0mrandom\u001b[0m\u001b[1;33m.\u001b[0m\u001b[0mrandint\u001b[0m\u001b[1;33m(\u001b[0m\u001b[1;36m10\u001b[0m\u001b[1;33m)\u001b[0m\u001b[1;33m\u001b[0m\u001b[1;33m\u001b[0m\u001b[0m\n\u001b[0m",
      "\u001b[1;31mNameError\u001b[0m: name 'np' is not defined"
     ]
    }
   ],
   "source": [
    "np.random.randint(10)"
   ]
  },
  {
   "cell_type": "markdown",
   "metadata": {
    "colab_type": "text",
    "id": "whgLpt1KAEBe"
   },
   "source": [
    "Utilizando números aleatorios"
   ]
  }
 ],
 "metadata": {
  "colab": {
   "collapsed_sections": [],
   "name": "Introducción a Python",
   "provenance": [],
   "toc_visible": true
  },
  "kernelspec": {
   "display_name": "Python 3",
   "language": "python",
   "name": "python3"
  },
  "language_info": {
   "codemirror_mode": {
    "name": "ipython",
    "version": 3
   },
   "file_extension": ".py",
   "mimetype": "text/x-python",
   "name": "python",
   "nbconvert_exporter": "python",
   "pygments_lexer": "ipython3",
   "version": "3.7.4"
  }
 },
 "nbformat": 4,
 "nbformat_minor": 1
}
