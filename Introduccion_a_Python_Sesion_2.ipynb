{
 "cells": [
  {
   "cell_type": "markdown",
   "metadata": {
    "colab_type": "text",
    "id": "pz1T6uwBbx4p"
   },
   "source": [
    "# **INTRODUCCIÓN A PYTHON**\n",
    "------------------------------------------------------------------------------------------\n",
    "------------------------------------\n",
    "Ecopetrol - VEX\n",
    "\n",
    "Agosto 2020"
   ]
  },
  {
   "cell_type": "markdown",
   "metadata": {
    "colab_type": "text",
    "id": "sHvpPaQC4r-E"
   },
   "source": [
    "*Tarea:*\n",
    "\n",
    "Escriba un programa que reciba un valor de volumen en m3 y retorne el valor en MBOE. Utilice la sentencia `input()` para solocitar el valor al usuario:"
   ]
  },
  {
   "cell_type": "markdown",
   "metadata": {},
   "source": [
    "*Desarrollo:*\n"
   ]
  },
  {
   "cell_type": "code",
   "execution_count": 74,
   "metadata": {},
   "outputs": [
    {
     "name": "stdout",
     "output_type": "stream",
     "text": [
      "Por favor ingrese el valor de volumen en m3 \n",
      "655500\n",
      "El volumen en MBOE es : 4123.095\n"
     ]
    }
   ],
   "source": [
    "a = input(\"Por favor ingrese el valor de volumen en m3 \\n\")\n",
    "\n",
    "a = float(a)\n",
    "\n",
    "D = 6.29/1000 #Es es una constante para convertir de m3 a MBOE\n",
    "\n",
    "print('El volumen en MBOE es :', a*D)"
   ]
  },
  {
   "cell_type": "markdown",
   "metadata": {
    "colab_type": "text",
    "id": "LbeSozvwNNYU"
   },
   "source": [
    "# 3. Condicionales y ciclos"
   ]
  },
  {
   "cell_type": "markdown",
   "metadata": {
    "colab_type": "text",
    "id": "kv2lY686Wl_X"
   },
   "source": [
    "**Operadores relacionales**\n",
    "\n",
    "Estos operadores nos permiten comparar dos valores, la respuesta del programa es una expresión 'boolean', es decir, verdadero o falso."
   ]
  },
  {
   "cell_type": "markdown",
   "metadata": {
    "colab_type": "text",
    "id": "bywXHFIlmelK"
   },
   "source": [
    "\n",
    "\n",
    "*   $==$      Igual\n",
    "*   $<$       menor que\n",
    "*   $<=$ menor o igual que\n",
    "*   $>$ mayor que\n",
    "*   $>=$ mayor o igual que\n",
    "*   $!=$ diferente a\n",
    "\n",
    "\n",
    "\n",
    "\n"
   ]
  },
  {
   "cell_type": "code",
   "execution_count": 7,
   "metadata": {
    "colab": {
     "base_uri": "https://localhost:8080/",
     "height": 34
    },
    "colab_type": "code",
    "id": "8_-MVDBCmd0Q",
    "outputId": "1901655b-f754-4772-a318-026446c2b59b"
   },
   "outputs": [
    {
     "data": {
      "text/plain": [
       "True"
      ]
     },
     "execution_count": 7,
     "metadata": {},
     "output_type": "execute_result"
    }
   ],
   "source": [
    "2 > 1"
   ]
  },
  {
   "cell_type": "code",
   "execution_count": 8,
   "metadata": {
    "colab": {
     "base_uri": "https://localhost:8080/",
     "height": 34
    },
    "colab_type": "code",
    "id": "coaTXLC1WlJi",
    "outputId": "416725b8-a7f0-47bb-f7ae-86415363aad3"
   },
   "outputs": [
    {
     "data": {
      "text/plain": [
       "False"
      ]
     },
     "execution_count": 8,
     "metadata": {},
     "output_type": "execute_result"
    }
   ],
   "source": [
    "2 < 1"
   ]
  },
  {
   "cell_type": "code",
   "execution_count": 10,
   "metadata": {
    "colab": {
     "base_uri": "https://localhost:8080/",
     "height": 34
    },
    "colab_type": "code",
    "id": "IzNeor45pQhd",
    "outputId": "0536c160-2271-49cb-8a3b-7768990e60b4"
   },
   "outputs": [
    {
     "data": {
      "text/plain": [
       "True"
      ]
     },
     "execution_count": 10,
     "metadata": {},
     "output_type": "execute_result"
    }
   ],
   "source": [
    "2 == 2"
   ]
  },
  {
   "cell_type": "code",
   "execution_count": 11,
   "metadata": {
    "colab": {
     "base_uri": "https://localhost:8080/",
     "height": 34
    },
    "colab_type": "code",
    "id": "kevqp55-pUXN",
    "outputId": "eebb7ee5-22ce-42a8-e246-86644e82ee67"
   },
   "outputs": [
    {
     "data": {
      "text/plain": [
       "False"
      ]
     },
     "execution_count": 11,
     "metadata": {},
     "output_type": "execute_result"
    }
   ],
   "source": [
    "2 == 3"
   ]
  },
  {
   "cell_type": "code",
   "execution_count": 12,
   "metadata": {
    "colab": {
     "base_uri": "https://localhost:8080/",
     "height": 34
    },
    "colab_type": "code",
    "id": "sVIPTIi7pfvc",
    "outputId": "cdd6f80d-1fca-4491-e10c-1946a7ca339c"
   },
   "outputs": [
    {
     "data": {
      "text/plain": [
       "True"
      ]
     },
     "execution_count": 12,
     "metadata": {},
     "output_type": "execute_result"
    }
   ],
   "source": [
    "2 != 9"
   ]
  },
  {
   "cell_type": "markdown",
   "metadata": {
    "colab_type": "text",
    "id": "X5YU3SwRp66e"
   },
   "source": [
    "**Operadores lógicos**\n",
    "*   $and$ 'y'\n",
    "*   $or$ 'o'\n",
    "\n",
    "Estos operadores son útiles para comparar expresiones relacionales:"
   ]
  },
  {
   "cell_type": "code",
   "execution_count": 13,
   "metadata": {
    "colab": {
     "base_uri": "https://localhost:8080/",
     "height": 34
    },
    "colab_type": "code",
    "id": "h8yvBzCvqIZz",
    "outputId": "900e0e3e-b2f1-4e72-9c34-0b6405ea7c55"
   },
   "outputs": [
    {
     "data": {
      "text/plain": [
       "True"
      ]
     },
     "execution_count": 13,
     "metadata": {},
     "output_type": "execute_result"
    }
   ],
   "source": [
    "(3 > 1) and (2 > 1)"
   ]
  },
  {
   "cell_type": "code",
   "execution_count": 14,
   "metadata": {
    "colab": {
     "base_uri": "https://localhost:8080/",
     "height": 34
    },
    "colab_type": "code",
    "id": "ukkrtlG8rMNL",
    "outputId": "32b2370c-88e1-49eb-a2c8-759757b2e1cf"
   },
   "outputs": [
    {
     "data": {
      "text/plain": [
       "False"
      ]
     },
     "execution_count": 14,
     "metadata": {},
     "output_type": "execute_result"
    }
   ],
   "source": [
    "(3 > 1) and (2 > 3)"
   ]
  },
  {
   "cell_type": "code",
   "execution_count": 15,
   "metadata": {
    "colab": {
     "base_uri": "https://localhost:8080/",
     "height": 34
    },
    "colab_type": "code",
    "id": "VNMiV4FvrOoN",
    "outputId": "98c4bd57-9477-4059-8a97-156e00466801"
   },
   "outputs": [
    {
     "data": {
      "text/plain": [
       "True"
      ]
     },
     "execution_count": 15,
     "metadata": {},
     "output_type": "execute_result"
    }
   ],
   "source": [
    "(3 > 1) or (2 > 3)"
   ]
  },
  {
   "cell_type": "code",
   "execution_count": 16,
   "metadata": {
    "colab": {
     "base_uri": "https://localhost:8080/",
     "height": 34
    },
    "colab_type": "code",
    "id": "GZ_zyqv4rUsz",
    "outputId": "c4876da6-76b2-46b0-f18c-1f9e82581019"
   },
   "outputs": [
    {
     "data": {
      "text/plain": [
       "False"
      ]
     },
     "execution_count": 16,
     "metadata": {},
     "output_type": "execute_result"
    }
   ],
   "source": [
    "(3 > 4) or (2 > 3)"
   ]
  },
  {
   "cell_type": "code",
   "execution_count": 17,
   "metadata": {
    "colab": {
     "base_uri": "https://localhost:8080/",
     "height": 34
    },
    "colab_type": "code",
    "id": "SYh4jAwmrZn9",
    "outputId": "5b5a36a0-8cdf-4478-b37c-355d1ce21119"
   },
   "outputs": [
    {
     "data": {
      "text/plain": [
       "False"
      ]
     },
     "execution_count": 17,
     "metadata": {},
     "output_type": "execute_result"
    }
   ],
   "source": [
    "(3 > 4) and (2 > 3)"
   ]
  },
  {
   "cell_type": "markdown",
   "metadata": {
    "colab_type": "text",
    "id": "x28dLEhKrv47"
   },
   "source": [
    "**IF, ELIF, ELSE**\n",
    "\n",
    "\n"
   ]
  },
  {
   "cell_type": "markdown",
   "metadata": {
    "colab_type": "text",
    "id": "7wJ21p7_svCB"
   },
   "source": [
    "Por lo general, para crear programas útiles, se utlizan los condicionales con el objetivo de verificar una condición y actuar de acuerdo a ella.\n",
    "\n",
    "\n",
    "```python\n",
    "if operador lógico o condicional es 'true':\n",
    "    INSTRUCCIONES\n",
    "```"
   ]
  },
  {
   "cell_type": "code",
   "execution_count": 18,
   "metadata": {
    "colab": {
     "base_uri": "https://localhost:8080/",
     "height": 34
    },
    "colab_type": "code",
    "id": "TvsYPcUJsnI9",
    "outputId": "6e7eace9-5082-4942-8eb3-14123f6c0234"
   },
   "outputs": [
    {
     "name": "stdout",
     "output_type": "stream",
     "text": [
      "verdadero\n"
     ]
    }
   ],
   "source": [
    "if 3 > 1:\n",
    "    print('verdadero')"
   ]
  },
  {
   "cell_type": "code",
   "execution_count": 22,
   "metadata": {
    "colab": {},
    "colab_type": "code",
    "id": "k5lv38gVtmEu"
   },
   "outputs": [
    {
     "name": "stdout",
     "output_type": "stream",
     "text": [
      "falso\n"
     ]
    }
   ],
   "source": [
    "if 3 > 4:\n",
    "    print('verdadero')\n",
    "    \n",
    "else:\n",
    "    print('falso')"
   ]
  },
  {
   "cell_type": "markdown",
   "metadata": {
    "colab_type": "text",
    "id": "5mOLdAt91IT9"
   },
   "source": [
    "Veamos un ejemplo con registros de pozos. Supongamos que tengo un registro Gamma Ray (GR) calibrado muy bien con la litología. Los valores de GR oscilan entre 1 y 120 API, supongamos que nuestro 'cut off' está en 40 API. Es decir que los valores inferiores a 40 serán arenitas y los superiores a 40 serán lodolitas. Hagamos un programa que reciba el valor de API e imprima si ese valor corresponde a arenita o a shale:"
   ]
  },
  {
   "cell_type": "code",
   "execution_count": 64,
   "metadata": {
    "colab": {
     "base_uri": "https://localhost:8080/",
     "height": 70
    },
    "colab_type": "code",
    "id": "iiKJiO6Z0qlR",
    "outputId": "b7cba1db-1c0e-42cf-f438-7524d4d3df9f"
   },
   "outputs": [
    {
     "name": "stdout",
     "output_type": "stream",
     "text": [
      "Qué valor de API tiene la zona de interés? \n",
      "22\n",
      "Es una arenita!\n"
     ]
    }
   ],
   "source": [
    "value = input(\"Qué valor de API tiene la zona de interés? \\n\")\n",
    "value = int(value)\n",
    "\n",
    "\n",
    "if value < 40:\n",
    "    print(\"Es una arenita!\")\n",
    "    \n",
    "elif value == 40:\n",
    "    print(\"Puede ser una arenita lodosa o una lodolita arenosa\")\n",
    "    \n",
    "else:\n",
    "    print(\"Es una lodolita\")"
   ]
  },
  {
   "cell_type": "markdown",
   "metadata": {
    "colab_type": "text",
    "id": "_MiAI4IK5L4c"
   },
   "source": [
    "¿Qué sucede si el usuario decide poner un valor negativo o un valor por encima de 120?"
   ]
  },
  {
   "cell_type": "code",
   "execution_count": 66,
   "metadata": {},
   "outputs": [
    {
     "name": "stdout",
     "output_type": "stream",
     "text": [
      "Qué valor de API tiene la zona de interés? \n",
      "-999\n",
      "Por favor verifique su dato y vuelva intentar\n"
     ]
    }
   ],
   "source": [
    "value = input(\"Qué valor de API tiene la zona de interés? \\n\")\n",
    "value = int(value)\n",
    "\n",
    "\n",
    "if (1 <= value) and (value < 40):\n",
    "    print(\"Es una arenita!\")\n",
    "    vshale = value \n",
    "    \n",
    "elif value == 40:\n",
    "    print(\"Puede ser una arenita lodosa o una lodolita arenosa\")\n",
    "    \n",
    "    \n",
    "elif (40 < value) and (value <= 120):\n",
    "    print(\"Es una lodolita!\")\n",
    "    \n",
    "    \n",
    "else:\n",
    "    print(\"Por favor verifique su dato y vuelva intentar\")"
   ]
  },
  {
   "cell_type": "code",
   "execution_count": 30,
   "metadata": {},
   "outputs": [],
   "source": [
    "import os #os nos sirve permite utilizar comandos del sistema operativo"
   ]
  },
  {
   "cell_type": "code",
   "execution_count": 31,
   "metadata": {
    "scrolled": true
   },
   "outputs": [
    {
     "data": {
      "text/plain": [
       "'C:\\\\Users\\\\Administrador\\\\Desktop\\\\Python_curso_2020'"
      ]
     },
     "execution_count": 31,
     "metadata": {},
     "output_type": "execute_result"
    }
   ],
   "source": [
    "pwd"
   ]
  },
  {
   "cell_type": "markdown",
   "metadata": {
    "colab_type": "text",
    "id": "JJ0LIyZ858Ul"
   },
   "source": [
    "En el anterior programa vimos una nueva función de Python, el comando `input`. La función `input`, es una forma de intereactuar con Python mientras se ejecuta el programa.`input` solicita que el usuario introduzca un número y a continuación ese número es usado como una variable dentro del programa, en este caso la variable 'value'."
   ]
  },
  {
   "cell_type": "markdown",
   "metadata": {
    "colab_type": "text",
    "id": "jlvFhCEb6MgF"
   },
   "source": [
    "**CICLOS FOR y WHILE**"
   ]
  },
  {
   "cell_type": "markdown",
   "metadata": {
    "colab_type": "text",
    "id": "pv1RZKrDPBN5"
   },
   "source": [
    "En programación usualmente necesitamos hacer calculos secuenciales, o variar los parámetros en una ecuación para obtener diferentes resultados, para esto utilizamos los ciclos o loops `for` y `while`:"
   ]
  },
  {
   "cell_type": "code",
   "execution_count": 67,
   "metadata": {
    "colab": {
     "base_uri": "https://localhost:8080/",
     "height": 194
    },
    "colab_type": "code",
    "id": "Us716M1P6ltc",
    "outputId": "4e4b0007-cca3-409d-a12b-754d35315cc9"
   },
   "outputs": [
    {
     "name": "stdout",
     "output_type": "stream",
     "text": [
      "0 1 2 3 4 5 6 7 8 9\n"
     ]
    }
   ],
   "source": [
    "print(0, 1, 2, 3, 4, 5, 6, 7, 8, 9)"
   ]
  },
  {
   "cell_type": "code",
   "execution_count": 38,
   "metadata": {
    "colab": {
     "base_uri": "https://localhost:8080/",
     "height": 357
    },
    "colab_type": "code",
    "id": "lb-ofsE-MFGH",
    "outputId": "2b0cc034-b546-4760-b36b-0d48e936e0fc"
   },
   "outputs": [
    {
     "name": "stdout",
     "output_type": "stream",
     "text": [
      "0\n",
      "1\n",
      "2\n",
      "3\n",
      "4\n",
      "5\n",
      "6\n",
      "7\n",
      "8\n",
      "9\n"
     ]
    }
   ],
   "source": [
    "for i in range(10):\n",
    "    print(i)"
   ]
  },
  {
   "cell_type": "code",
   "execution_count": 39,
   "metadata": {},
   "outputs": [
    {
     "name": "stdout",
     "output_type": "stream",
     "text": [
      "0 --- 0\n",
      "1 --- 1\n",
      "2 --- 4\n",
      "3 --- 9\n",
      "4 --- 16\n",
      "5 --- 25\n",
      "6 --- 36\n",
      "7 --- 49\n",
      "8 --- 64\n",
      "9 --- 81\n",
      "10 --- 100\n",
      "11 --- 121\n",
      "12 --- 144\n",
      "13 --- 169\n",
      "14 --- 196\n",
      "15 --- 225\n",
      "16 --- 256\n",
      "17 --- 289\n",
      "18 --- 324\n",
      "19 --- 361\n"
     ]
    }
   ],
   "source": [
    "#Lista de números al cuadrado\n",
    "\n",
    "for i in range(20):\n",
    "    print(i, '---', i**2)"
   ]
  },
  {
   "cell_type": "code",
   "execution_count": null,
   "metadata": {},
   "outputs": [],
   "source": [
    "#Lista de números con su respectiva raíz cuadrada\n",
    "\n",
    "for i in range(20):\n",
    "    print(i, '---', i**2)"
   ]
  },
  {
   "cell_type": "markdown",
   "metadata": {
    "colab_type": "text",
    "id": "C0yguY68RD9d"
   },
   "source": [
    "La primera línea del codigo anterior se puede leer como: 'Para cada elemento (i) en una lista de 20 valores (del 0 al 19) ejecute lo siguiente:'\n",
    "\n",
    "La segunda línea utiliza el comando `print` para imprimir en primer lugar i (el número de la lista, es decir: 0, 1, 2, ..., 19), luego imprima el string $'--->'$ y posteriormente imprima el resultado de elevar i a 0.5.\n",
    "\n",
    "\n",
    "**Algunas consideraciones semánticas a tener en cuenta en Python:** \n",
    "\n",
    "1.   Al final de una línea de `for`, `while` o `if` siempre debe haber dos puntos (:).\n",
    "2.   Las instrucciones que se encuentren del `for`, `while` o `if` deben ir indentadas.\n",
    "3. La numeración o indexación de una lista en Python siempre empieza desde cero.\n",
    "\n",
    "\n"
   ]
  },
  {
   "cell_type": "code",
   "execution_count": 40,
   "metadata": {},
   "outputs": [
    {
     "name": "stdout",
     "output_type": "stream",
     "text": [
      "Requirement already satisfied: tutormagic in c:\\users\\administrador\\anaconda3\\lib\\site-packages (0.3.0)\n",
      "Requirement already satisfied: notebook>=3.0 in c:\\users\\administrador\\anaconda3\\lib\\site-packages (from tutormagic) (6.0.1)\n",
      "Requirement already satisfied: ipython-genutils in c:\\users\\administrador\\anaconda3\\lib\\site-packages (from notebook>=3.0->tutormagic) (0.2.0)\n",
      "Requirement already satisfied: jinja2 in c:\\users\\administrador\\anaconda3\\lib\\site-packages (from notebook>=3.0->tutormagic) (2.10.3)\n",
      "Requirement already satisfied: Send2Trash in c:\\users\\administrador\\anaconda3\\lib\\site-packages (from notebook>=3.0->tutormagic) (1.5.0)\n",
      "Requirement already satisfied: traitlets>=4.2.1 in c:\\users\\administrador\\anaconda3\\lib\\site-packages (from notebook>=3.0->tutormagic) (4.3.3)\n",
      "Requirement already satisfied: pyzmq>=17 in c:\\users\\administrador\\anaconda3\\lib\\site-packages (from notebook>=3.0->tutormagic) (18.1.0)\n",
      "Requirement already satisfied: jupyter-client>=5.3.1 in c:\\users\\administrador\\anaconda3\\lib\\site-packages (from notebook>=3.0->tutormagic) (5.3.3)\n",
      "Requirement already satisfied: ipykernel in c:\\users\\administrador\\anaconda3\\lib\\site-packages (from notebook>=3.0->tutormagic) (5.1.2)\n",
      "Requirement already satisfied: tornado>=5.0 in c:\\users\\administrador\\anaconda3\\lib\\site-packages (from notebook>=3.0->tutormagic) (6.0.3)\n",
      "Requirement already satisfied: terminado>=0.8.1 in c:\\users\\administrador\\anaconda3\\lib\\site-packages (from notebook>=3.0->tutormagic) (0.8.2)\n",
      "Requirement already satisfied: nbconvert in c:\\users\\administrador\\anaconda3\\lib\\site-packages (from notebook>=3.0->tutormagic) (5.6.0)\n",
      "Requirement already satisfied: jupyter-core>=4.4.0 in c:\\users\\administrador\\anaconda3\\lib\\site-packages (from notebook>=3.0->tutormagic) (4.5.0)\n",
      "Requirement already satisfied: nbformat in c:\\users\\administrador\\anaconda3\\lib\\site-packages (from notebook>=3.0->tutormagic) (4.4.0)\n",
      "Requirement already satisfied: prometheus-client in c:\\users\\administrador\\anaconda3\\lib\\site-packages (from notebook>=3.0->tutormagic) (0.7.1)\n",
      "Requirement already satisfied: MarkupSafe>=0.23 in c:\\users\\administrador\\anaconda3\\lib\\site-packages (from jinja2->notebook>=3.0->tutormagic) (1.1.1)\n",
      "Requirement already satisfied: six in c:\\users\\administrador\\anaconda3\\lib\\site-packages (from traitlets>=4.2.1->notebook>=3.0->tutormagic) (1.12.0)\n",
      "Requirement already satisfied: decorator in c:\\users\\administrador\\anaconda3\\lib\\site-packages (from traitlets>=4.2.1->notebook>=3.0->tutormagic) (4.4.0)\n",
      "Requirement already satisfied: pywin32>=1.0; sys_platform == \"win32\" in c:\\users\\administrador\\anaconda3\\lib\\site-packages (from jupyter-client>=5.3.1->notebook>=3.0->tutormagic) (223)\n",
      "Requirement already satisfied: python-dateutil>=2.1 in c:\\users\\administrador\\anaconda3\\lib\\site-packages (from jupyter-client>=5.3.1->notebook>=3.0->tutormagic) (2.8.0)\n",
      "Requirement already satisfied: ipython>=5.0.0 in c:\\users\\administrador\\anaconda3\\lib\\site-packages (from ipykernel->notebook>=3.0->tutormagic) (7.8.0)\n",
      "Requirement already satisfied: entrypoints>=0.2.2 in c:\\users\\administrador\\anaconda3\\lib\\site-packages (from nbconvert->notebook>=3.0->tutormagic) (0.3)\n",
      "Requirement already satisfied: bleach in c:\\users\\administrador\\anaconda3\\lib\\site-packages (from nbconvert->notebook>=3.0->tutormagic) (3.1.0)\n",
      "Requirement already satisfied: pygments in c:\\users\\administrador\\anaconda3\\lib\\site-packages (from nbconvert->notebook>=3.0->tutormagic) (2.4.2)\n",
      "Requirement already satisfied: mistune<2,>=0.8.1 in c:\\users\\administrador\\anaconda3\\lib\\site-packages (from nbconvert->notebook>=3.0->tutormagic) (0.8.4)\n",
      "Requirement already satisfied: defusedxml in c:\\users\\administrador\\anaconda3\\lib\\site-packages (from nbconvert->notebook>=3.0->tutormagic) (0.6.0)\n",
      "Requirement already satisfied: testpath in c:\\users\\administrador\\anaconda3\\lib\\site-packages (from nbconvert->notebook>=3.0->tutormagic) (0.4.2)\n",
      "Requirement already satisfied: pandocfilters>=1.4.1 in c:\\users\\administrador\\anaconda3\\lib\\site-packages (from nbconvert->notebook>=3.0->tutormagic) (1.4.2)\n",
      "Requirement already satisfied: jsonschema!=2.5.0,>=2.4 in c:\\users\\administrador\\anaconda3\\lib\\site-packages (from nbformat->notebook>=3.0->tutormagic) (3.0.2)\n",
      "Requirement already satisfied: colorama; sys_platform == \"win32\" in c:\\users\\administrador\\anaconda3\\lib\\site-packages (from ipython>=5.0.0->ipykernel->notebook>=3.0->tutormagic) (0.4.1)\n",
      "Requirement already satisfied: backcall in c:\\users\\administrador\\anaconda3\\lib\\site-packages (from ipython>=5.0.0->ipykernel->notebook>=3.0->tutormagic) (0.1.0)\n",
      "Requirement already satisfied: setuptools>=18.5 in c:\\users\\administrador\\anaconda3\\lib\\site-packages (from ipython>=5.0.0->ipykernel->notebook>=3.0->tutormagic) (41.4.0)\n",
      "Requirement already satisfied: prompt-toolkit<2.1.0,>=2.0.0 in c:\\users\\administrador\\anaconda3\\lib\\site-packages (from ipython>=5.0.0->ipykernel->notebook>=3.0->tutormagic) (2.0.10)\n",
      "Requirement already satisfied: jedi>=0.10 in c:\\users\\administrador\\anaconda3\\lib\\site-packages (from ipython>=5.0.0->ipykernel->notebook>=3.0->tutormagic) (0.15.1)\n",
      "Requirement already satisfied: pickleshare in c:\\users\\administrador\\anaconda3\\lib\\site-packages (from ipython>=5.0.0->ipykernel->notebook>=3.0->tutormagic) (0.7.5)\n",
      "Requirement already satisfied: webencodings in c:\\users\\administrador\\anaconda3\\lib\\site-packages (from bleach->nbconvert->notebook>=3.0->tutormagic) (0.5.1)\n",
      "Requirement already satisfied: pyrsistent>=0.14.0 in c:\\users\\administrador\\anaconda3\\lib\\site-packages (from jsonschema!=2.5.0,>=2.4->nbformat->notebook>=3.0->tutormagic) (0.15.4)\n",
      "Requirement already satisfied: attrs>=17.4.0 in c:\\users\\administrador\\anaconda3\\lib\\site-packages (from jsonschema!=2.5.0,>=2.4->nbformat->notebook>=3.0->tutormagic) (19.2.0)\n",
      "Requirement already satisfied: wcwidth in c:\\users\\administrador\\anaconda3\\lib\\site-packages (from prompt-toolkit<2.1.0,>=2.0.0->ipython>=5.0.0->ipykernel->notebook>=3.0->tutormagic) (0.1.7)\n",
      "Requirement already satisfied: parso>=0.5.0 in c:\\users\\administrador\\anaconda3\\lib\\site-packages (from jedi>=0.10->ipython>=5.0.0->ipykernel->notebook>=3.0->tutormagic) (0.5.1)\n",
      "Note: you may need to restart the kernel to use updated packages.\n"
     ]
    }
   ],
   "source": [
    "#Python Tutor es una herramienta que nos permite entender de forma didáctica como funciona un programa.\n",
    "\n",
    "%pip install tutormagic\n",
    "%load_ext tutormagic"
   ]
  },
  {
   "cell_type": "code",
   "execution_count": 68,
   "metadata": {
    "colab": {
     "base_uri": "https://localhost:8080/",
     "height": 34
    },
    "colab_type": "code",
    "id": "VTB4Pdw5XcDk",
    "outputId": "041f66a4-e136-4695-b417-1c7f113ebbb7"
   },
   "outputs": [
    {
     "data": {
      "text/html": [
       "<div class=\"text-center\"><strong><a style=\"box-sizing: border-box; padding: 0 5px; border: 1px solid #CFCFCF;\" target=\"_\" href=http://pythontutor.com/iframe-embed.html#code=%0Afor%20letra%20in%20%22Ecopetrol%2C%20energ%C3%ADa%20que%20transforma%22%3A%0A%20%20%20%20print%28letra%29%0A%20%20%20%20%0A&origin=opt-frontend.js&cumulative=false&heapPrimitives=false&textReferences=false&curInstr=0&&verticalStack=false&py=3&rawInputLstJSON=%5B%5D&codeDivWidth=50%25&codeDivHeight=100%25>Python Tutor</a></strong></div>"
      ],
      "text/plain": [
       "<IPython.core.display.HTML object>"
      ]
     },
     "metadata": {},
     "output_type": "display_data"
    },
    {
     "name": "stdout",
     "output_type": "stream",
     "text": [
      "E\n",
      "c\n",
      "o\n",
      "p\n",
      "e\n",
      "t\n",
      "r\n",
      "o\n",
      "l\n",
      ",\n",
      " \n",
      "e\n",
      "n\n",
      "e\n",
      "r\n",
      "g\n",
      "í\n",
      "a\n",
      " \n",
      "q\n",
      "u\n",
      "e\n",
      " \n",
      "t\n",
      "r\n",
      "a\n",
      "n\n",
      "s\n",
      "f\n",
      "o\n",
      "r\n",
      "m\n",
      "a\n"
     ]
    }
   ],
   "source": [
    "%%tutor -k -r\n",
    "\n",
    "for letra in \"Ecopetrol, energía que transforma\":\n",
    "    print(letra)\n",
    "    \n"
   ]
  },
  {
   "cell_type": "markdown",
   "metadata": {
    "colab_type": "text",
    "id": "qI2kw8hcYkvJ"
   },
   "source": [
    "Otra setencia para realizar tareas iterativas además del `for`, es `while`. La diferencia fundamental consiste que `for` recorre una lista de valores (es decir, necesita que se especifique un valor máximo) mientras que `while`, es una setencia que depende de una condición."
   ]
  },
  {
   "cell_type": "code",
   "execution_count": 72,
   "metadata": {
    "colab": {
     "base_uri": "https://localhost:8080/",
     "height": 357
    },
    "colab_type": "code",
    "id": "xpiH33RoYh3H",
    "outputId": "487f4b0b-96e2-4877-f7f3-2e02223024bd"
   },
   "outputs": [
    {
     "name": "stdout",
     "output_type": "stream",
     "text": [
      "0\n",
      "1\n",
      "2\n",
      "3\n",
      "4\n",
      "5\n",
      "6\n",
      "7\n",
      "8\n",
      "9\n"
     ]
    }
   ],
   "source": [
    "n = 0\n",
    "\n",
    "while n < 10: \n",
    "    print(n) \n",
    "    n = n + 1\n",
    "    \n",
    "    \n",
    "    "
   ]
  },
  {
   "cell_type": "code",
   "execution_count": 45,
   "metadata": {},
   "outputs": [
    {
     "data": {
      "text/plain": [
       "int"
      ]
     },
     "execution_count": 45,
     "metadata": {},
     "output_type": "execute_result"
    }
   ],
   "source": [
    "type(n)"
   ]
  },
  {
   "cell_type": "markdown",
   "metadata": {
    "colab_type": "text",
    "id": "HA8P0bXVVyn3"
   },
   "source": [
    "De acuerdo con el ejemplo de la sección anterior, supongamos que ahora no queremos calcular únicamente un volumen de reservorio, si no que, en su lugar, varios volúmenes variando la porosidad:"
   ]
  },
  {
   "cell_type": "code",
   "execution_count": null,
   "metadata": {
    "colab": {},
    "colab_type": "code",
    "id": "aKpyl3H0Vx0Z"
   },
   "outputs": [],
   "source": [
    "#Cálculo volumétrico\n",
    "\n",
    "L = 4       # Largo en km\n",
    "W = 3       # ancho en km\n",
    "h = 100     # espesor del reservorio Gross (metros)\n",
    "NTG = 0.8   # Net to gross (fraq)\n",
    "#Por = 0.25  # Porosidad (fraq)\n",
    "Sw = 0.30   # Saturación de agua (fraq)\n",
    "FVF = 1.2   # m3/m3"
   ]
  },
  {
   "cell_type": "code",
   "execution_count": 71,
   "metadata": {
    "colab": {
     "base_uri": "https://localhost:8080/",
     "height": 87
    },
    "colab_type": "code",
    "id": "ZPU-MDwERAXv",
    "outputId": "c7a93617-1a09-4991-ba7e-2c96f046f816"
   },
   "outputs": [
    {
     "name": "stdout",
     "output_type": "stream",
     "text": [
      "Volumen con Por 0.7 = 564479999.9999999 m3\n",
      "Volumen con Por 0.75 = 604799999.9999999 m3\n",
      "Volumen con Por 0.8 = 645120000.0 m3\n",
      "Volumen con Por 0.85 = 685440000.0 m3\n"
     ]
    }
   ],
   "source": [
    "for Por in [0.7, 0.75, 0.8, 0.85]:\n",
    "\n",
    "    Volumen = (L*1000) * (W*1000) * h * NTG * Por * (1-Sw) * FVF\n",
    "    \n",
    "    print('Volumen con Por', Por, '=', Volumen, 'm3')"
   ]
  },
  {
   "cell_type": "markdown",
   "metadata": {
    "colab_type": "text",
    "id": "u0NcNlwW-XVg"
   },
   "source": [
    "*Tarea:*\n",
    "\n",
    "- Cree un programa que calcule el máximo común divisor entre dos números."
   ]
  },
  {
   "cell_type": "code",
   "execution_count": null,
   "metadata": {},
   "outputs": [],
   "source": []
  },
  {
   "cell_type": "code",
   "execution_count": null,
   "metadata": {},
   "outputs": [],
   "source": []
  },
  {
   "cell_type": "markdown",
   "metadata": {
    "colab_type": "text",
    "id": "43zL7FrOTK0G"
   },
   "source": [
    "# Tipos de datos en Python"
   ]
  },
  {
   "cell_type": "markdown",
   "metadata": {
    "colab_type": "text",
    "id": "I549p-zsQudo"
   },
   "source": [
    "\n",
    "\n",
    "\n",
    "Veamos algunos tipos de datos útiles en Phyton (estos no son todos)"
   ]
  },
  {
   "cell_type": "markdown",
   "metadata": {
    "colab_type": "text",
    "id": "HbSgLAcYT6jL"
   },
   "source": [
    "**LISTAS**\n",
    "\n",
    "\n",
    "Las listas son arreglos de elementos, que pueden ser de distinto tipo. Se definen con corchetes."
   ]
  },
  {
   "cell_type": "code",
   "execution_count": null,
   "metadata": {
    "colab": {
     "base_uri": "https://localhost:8080/",
     "height": 34
    },
    "colab_type": "code",
    "id": "19RtuVJ2Tx_4",
    "outputId": "52582724-b7c4-4d67-ede2-e1308c71e883"
   },
   "outputs": [],
   "source": []
  },
  {
   "cell_type": "code",
   "execution_count": null,
   "metadata": {
    "colab": {
     "base_uri": "https://localhost:8080/",
     "height": 34
    },
    "colab_type": "code",
    "id": "7VdI8gFYUICh",
    "outputId": "0effa754-25c7-4526-b03e-0041c87cec44"
   },
   "outputs": [],
   "source": []
  },
  {
   "cell_type": "code",
   "execution_count": null,
   "metadata": {
    "colab": {
     "base_uri": "https://localhost:8080/",
     "height": 34
    },
    "colab_type": "code",
    "id": "kuniM2-QUbt4",
    "outputId": "044d4423-6f9c-4d5b-93eb-b759f0cbaae1"
   },
   "outputs": [],
   "source": []
  },
  {
   "cell_type": "code",
   "execution_count": null,
   "metadata": {
    "colab": {
     "base_uri": "https://localhost:8080/",
     "height": 34
    },
    "colab_type": "code",
    "id": "DvkkRlFRUv1t",
    "outputId": "f18a36b0-a490-4e72-bdf2-6ab3f123ae47"
   },
   "outputs": [],
   "source": []
  },
  {
   "cell_type": "code",
   "execution_count": null,
   "metadata": {
    "colab": {
     "base_uri": "https://localhost:8080/",
     "height": 34
    },
    "colab_type": "code",
    "id": "pwIdLg09U6q1",
    "outputId": "31b190dc-aaa3-47de-a867-6621f52c62cb"
   },
   "outputs": [],
   "source": []
  },
  {
   "cell_type": "code",
   "execution_count": null,
   "metadata": {
    "colab": {
     "base_uri": "https://localhost:8080/",
     "height": 34
    },
    "colab_type": "code",
    "id": "iuh64vsCU3Cx",
    "outputId": "a83c4f20-1c65-4d77-f1d7-2eac9b604260"
   },
   "outputs": [],
   "source": []
  },
  {
   "cell_type": "code",
   "execution_count": null,
   "metadata": {
    "colab": {
     "base_uri": "https://localhost:8080/",
     "height": 34
    },
    "colab_type": "code",
    "id": "AQ2vJJgzVjDO",
    "outputId": "b99d33ce-ea16-402d-b86a-23cc6673a5e6"
   },
   "outputs": [],
   "source": []
  },
  {
   "cell_type": "code",
   "execution_count": null,
   "metadata": {
    "colab": {
     "base_uri": "https://localhost:8080/",
     "height": 34
    },
    "colab_type": "code",
    "id": "OzdAbgcVsOoX",
    "outputId": "6c4058c9-4a7a-4f3a-9733-21a874125764"
   },
   "outputs": [],
   "source": [
    "\n"
   ]
  },
  {
   "cell_type": "code",
   "execution_count": null,
   "metadata": {
    "colab": {
     "base_uri": "https://localhost:8080/",
     "height": 34
    },
    "colab_type": "code",
    "id": "LDXqHVQqs_In",
    "outputId": "98328114-3e7f-4b16-f6a1-9b3c31236cb2"
   },
   "outputs": [],
   "source": []
  },
  {
   "cell_type": "markdown",
   "metadata": {
    "colab_type": "text",
    "id": "IWle5WQ5SGap"
   },
   "source": [
    "**STRING**\n",
    "\n",
    "Los String, como vimos antes, se definen como listas de carácteres:"
   ]
  },
  {
   "cell_type": "code",
   "execution_count": null,
   "metadata": {
    "colab": {},
    "colab_type": "code",
    "id": "AQIGZQfcR_9n"
   },
   "outputs": [],
   "source": []
  },
  {
   "cell_type": "code",
   "execution_count": null,
   "metadata": {
    "colab": {
     "base_uri": "https://localhost:8080/",
     "height": 35
    },
    "colab_type": "code",
    "id": "RcAxsuNGQtFe",
    "outputId": "88610737-47b2-4256-b41d-75da4b8790f8"
   },
   "outputs": [],
   "source": []
  },
  {
   "cell_type": "code",
   "execution_count": null,
   "metadata": {
    "colab": {
     "base_uri": "https://localhost:8080/",
     "height": 35
    },
    "colab_type": "code",
    "id": "XRaAy-g-SmdN",
    "outputId": "f38eb0b9-1a98-43b8-c184-a89582ae032a"
   },
   "outputs": [],
   "source": []
  },
  {
   "cell_type": "code",
   "execution_count": null,
   "metadata": {
    "colab": {
     "base_uri": "https://localhost:8080/",
     "height": 35
    },
    "colab_type": "code",
    "id": "xR7jOp6fSqX8",
    "outputId": "4594cce7-7e9f-410a-acbe-9dd5f2edd9f2"
   },
   "outputs": [],
   "source": []
  },
  {
   "cell_type": "code",
   "execution_count": null,
   "metadata": {
    "colab": {
     "base_uri": "https://localhost:8080/",
     "height": 35
    },
    "colab_type": "code",
    "id": "XS-kl4gBSsPd",
    "outputId": "253b5fcc-9bcb-46cb-aa89-33e6cf697b4f"
   },
   "outputs": [],
   "source": []
  },
  {
   "cell_type": "code",
   "execution_count": null,
   "metadata": {
    "colab": {
     "base_uri": "https://localhost:8080/",
     "height": 34
    },
    "colab_type": "code",
    "id": "qiAgyTHFS9yq",
    "outputId": "3b899cec-8635-4763-ced2-c2f232a3c603"
   },
   "outputs": [],
   "source": []
  },
  {
   "cell_type": "markdown",
   "metadata": {
    "colab_type": "text",
    "id": "QG51XGGgWk6d"
   },
   "source": [
    "**TUPLAS**\n",
    "\n",
    "Las tuplas son arreglos **inmutables** de varios tipos de datos. Es decir que a diferencia de una lista, no podemos agregar, eliminar o modificar los valores dentro de la tupla. Las tuplas las definimos entre paréntesis:\n"
   ]
  },
  {
   "cell_type": "code",
   "execution_count": null,
   "metadata": {
    "colab": {
     "base_uri": "https://localhost:8080/",
     "height": 34
    },
    "colab_type": "code",
    "id": "bGEB9SYVWhfk",
    "outputId": "affdeede-816f-43be-b8bb-cef7b8496f75"
   },
   "outputs": [],
   "source": []
  },
  {
   "cell_type": "code",
   "execution_count": null,
   "metadata": {
    "colab": {
     "base_uri": "https://localhost:8080/",
     "height": 34
    },
    "colab_type": "code",
    "id": "s_7ZDO8dTFNW",
    "outputId": "d2ba5ebe-c272-4417-ee0e-85f1984f964b"
   },
   "outputs": [],
   "source": []
  },
  {
   "cell_type": "code",
   "execution_count": null,
   "metadata": {
    "colab": {
     "base_uri": "https://localhost:8080/",
     "height": 203
    },
    "colab_type": "code",
    "id": "S7rawOAAXJ0D",
    "outputId": "a78c5a01-c677-4244-a1ad-14e807f0f3c5"
   },
   "outputs": [],
   "source": []
  },
  {
   "cell_type": "code",
   "execution_count": null,
   "metadata": {
    "colab": {},
    "colab_type": "code",
    "id": "Y4hNJWtfXgVH"
   },
   "outputs": [],
   "source": []
  },
  {
   "cell_type": "markdown",
   "metadata": {
    "colab_type": "text",
    "id": "1ApdsxVRYXad"
   },
   "source": [
    "**CONJUNTOS O SETS**"
   ]
  },
  {
   "cell_type": "markdown",
   "metadata": {
    "colab_type": "text",
    "id": "mMsckGeTlCow"
   },
   "source": [
    "Es una colección de elementos que no están ordenados ni indexados. Para crear estos set utilizamos los corchetes:"
   ]
  },
  {
   "cell_type": "code",
   "execution_count": null,
   "metadata": {
    "colab": {
     "base_uri": "https://localhost:8080/",
     "height": 34
    },
    "colab_type": "code",
    "id": "a7TrArNElCG8",
    "outputId": "087d7b89-51fb-4fd3-da94-a316e3f63211"
   },
   "outputs": [],
   "source": []
  },
  {
   "cell_type": "code",
   "execution_count": null,
   "metadata": {
    "colab": {
     "base_uri": "https://localhost:8080/",
     "height": 34
    },
    "colab_type": "code",
    "id": "7bbJ0sYGYe3d",
    "outputId": "7f8dd9ef-e8af-48f1-c77e-644f81c69efe"
   },
   "outputs": [],
   "source": []
  },
  {
   "cell_type": "code",
   "execution_count": null,
   "metadata": {
    "colab": {
     "base_uri": "https://localhost:8080/",
     "height": 34
    },
    "colab_type": "code",
    "id": "OJppeLiEYWZI",
    "outputId": "acd43dbc-3cd0-417a-e378-e5302571eadf"
   },
   "outputs": [],
   "source": []
  },
  {
   "cell_type": "code",
   "execution_count": null,
   "metadata": {
    "colab": {},
    "colab_type": "code",
    "id": "BmnIAdnXl_oR"
   },
   "outputs": [],
   "source": []
  },
  {
   "cell_type": "markdown",
   "metadata": {
    "colab_type": "text",
    "id": "BWmBbJsvm-p6"
   },
   "source": [
    "**DICCIONARIOS**"
   ]
  },
  {
   "cell_type": "markdown",
   "metadata": {
    "colab_type": "text",
    "id": "sY3C3GH0O9Am"
   },
   "source": [
    "Los Diccionarios en Python es una colección no indexada de datos que se compone de dos partes: 'keys' y 'values'. Son muy utilizados en análisis de datos porque nos permiten relacionar dos tipos de elementos, p. ej. un diccionario inglés-español, los códigos que utiliza cada usuario en una página web, entre otras. Los Diccionarios deben escribirse en llaves de la siguiente forma:\n",
    "\n",
    "```\n",
    "Dictionary = {key1:value1, keys2:value2, key3:value3...}\n",
    "```"
   ]
  },
  {
   "cell_type": "markdown",
   "metadata": {
    "colab_type": "text",
    "id": "TKc5WslaSYiD"
   },
   "source": [
    "Veamos un ejemplo de un Diccionario que contiene palabras la traducción de palabras inglés a español"
   ]
  },
  {
   "cell_type": "code",
   "execution_count": null,
   "metadata": {
    "colab": {
     "base_uri": "https://localhost:8080/",
     "height": 34
    },
    "colab_type": "code",
    "id": "-aScdadZSjMA",
    "outputId": "f5f8acbe-8958-4b39-d83d-806dda2ae7ce"
   },
   "outputs": [],
   "source": []
  },
  {
   "cell_type": "markdown",
   "metadata": {
    "colab_type": "text",
    "id": "Y_8uv4U4TELP"
   },
   "source": [
    "Para los diccionarios, al ser una lista no indexada, no es posible consultar valores por medio de números, se hace por medio de claves."
   ]
  },
  {
   "cell_type": "code",
   "execution_count": null,
   "metadata": {
    "colab": {
     "base_uri": "https://localhost:8080/",
     "height": 167
    },
    "colab_type": "code",
    "id": "YkaLR-jBm-RJ",
    "outputId": "4f46b9ed-c51f-4d3f-a9c2-aedc1944960b"
   },
   "outputs": [],
   "source": []
  },
  {
   "cell_type": "code",
   "execution_count": null,
   "metadata": {
    "colab": {
     "base_uri": "https://localhost:8080/",
     "height": 35
    },
    "colab_type": "code",
    "id": "19WBRQSnTTtE",
    "outputId": "799eb957-e95e-49e6-c5dc-8018451a3981"
   },
   "outputs": [],
   "source": []
  },
  {
   "cell_type": "code",
   "execution_count": null,
   "metadata": {
    "colab": {
     "base_uri": "https://localhost:8080/",
     "height": 35
    },
    "colab_type": "code",
    "id": "QZKtNiojTa4K",
    "outputId": "2bd36e4e-ef69-4b0c-a819-2d975abf081f"
   },
   "outputs": [],
   "source": []
  },
  {
   "cell_type": "code",
   "execution_count": null,
   "metadata": {
    "colab": {},
    "colab_type": "code",
    "id": "k-RggB6xTbNu"
   },
   "outputs": [],
   "source": []
  },
  {
   "cell_type": "code",
   "execution_count": null,
   "metadata": {
    "colab": {
     "base_uri": "https://localhost:8080/",
     "height": 34
    },
    "colab_type": "code",
    "id": "aPEZ-0yFTbpE",
    "outputId": "df1e454a-9478-46f4-aff6-1da105b580f7"
   },
   "outputs": [],
   "source": []
  },
  {
   "cell_type": "code",
   "execution_count": null,
   "metadata": {
    "colab": {
     "base_uri": "https://localhost:8080/",
     "height": 34
    },
    "colab_type": "code",
    "id": "N8DL-sxTUCq_",
    "outputId": "e36a4e00-36ff-4e51-dab6-b3f1eb3e6ede"
   },
   "outputs": [],
   "source": []
  },
  {
   "cell_type": "code",
   "execution_count": null,
   "metadata": {
    "colab": {
     "base_uri": "https://localhost:8080/",
     "height": 34
    },
    "colab_type": "code",
    "id": "Un1F6_0uURg7",
    "outputId": "49563669-f590-4169-abcc-635b2226bbd0"
   },
   "outputs": [],
   "source": []
  },
  {
   "cell_type": "markdown",
   "metadata": {
    "colab_type": "text",
    "id": "PfcQCtAqlQ06"
   },
   "source": [
    "# Funciones\n",
    "\n",
    "Hasta ahora hemos vimos visto algunas funciones como `print()`, `type()` o `len()` (para las listas), pero no hemos visto su trasfondo.\n",
    "\n",
    "Como en cualquier otro lenguaje, en *Python* también es posible definir funciones, es decir, secuencias de instrucciones que reciben una o varias entradas, ejecutan algunas operaciones sobre ellos y devuelven uno o varios resultados.\n",
    "\n",
    "Los valores de entrada, también llamados argumentos o parámetros reales, son necesarios para que la función ejecute la tarea.\n",
    "\n",
    "Para definir una función:\n",
    " \n",
    "\n",
    "1.   Se usa la palabra clave `def`, seguido por el nombre de la función, entre paréntesis los datos de entrada o parámetros y `:`\n",
    "2.   Las siguientes líneas serán las intrucciones a ejecutar. Es importante resaltar que todas las intrucciones de una función en Python deben estar indentadas.\n",
    "3.  Finalmente si la función tiene una salida numérica, debe ir precedida por `return`.\n",
    "\n",
    "\n",
    "\n",
    "```python\n",
    "def NOMBRE(LISTA DE ARGUMENTOS):\n",
    "    INSTRUCCIONES\n",
    "    return VALOR\n",
    "```\n",
    "\n",
    "\n",
    "```python\n",
    "def NOMBRE(LISTA DE ARGUMENTOS):\n",
    "    INSTRUCCIONES\n",
    "    print(VALOR)\n",
    "```\n",
    "\n",
    "La línea que contiene el `return` (o `print`) es opcional, pues no todas las funciones deben retornar algo. Por ejemplo, hay algunas que sólo modifican los valores de ciertas variables, por lo que no necesitan retornar o imprimir ningún valor."
   ]
  },
  {
   "cell_type": "code",
   "execution_count": null,
   "metadata": {
    "colab": {},
    "colab_type": "code",
    "id": "eYShhJAnuBTZ"
   },
   "outputs": [],
   "source": []
  },
  {
   "cell_type": "code",
   "execution_count": null,
   "metadata": {
    "colab": {
     "base_uri": "https://localhost:8080/",
     "height": 34
    },
    "colab_type": "code",
    "id": "afRBUp6IuZJX",
    "outputId": "385e5581-7e21-460f-bb5b-a83537d87f55"
   },
   "outputs": [],
   "source": []
  },
  {
   "cell_type": "code",
   "execution_count": null,
   "metadata": {
    "colab": {
     "base_uri": "https://localhost:8080/",
     "height": 34
    },
    "colab_type": "code",
    "id": "Eqfm2TUeub-K",
    "outputId": "49857eb8-abad-47b1-be26-4eaca647db18"
   },
   "outputs": [],
   "source": []
  },
  {
   "cell_type": "code",
   "execution_count": null,
   "metadata": {
    "colab": {},
    "colab_type": "code",
    "id": "6exonKO9uRpi"
   },
   "outputs": [],
   "source": []
  },
  {
   "cell_type": "code",
   "execution_count": null,
   "metadata": {
    "colab": {
     "base_uri": "https://localhost:8080/",
     "height": 34
    },
    "colab_type": "code",
    "id": "_QGf640kunKn",
    "outputId": "26547861-8b0e-4ce1-e2dc-b6efa14b694f"
   },
   "outputs": [],
   "source": []
  },
  {
   "cell_type": "markdown",
   "metadata": {
    "colab_type": "text",
    "id": "zg10GiVguxZ-"
   },
   "source": [
    "Creemos una función que nos permita hacer la conversión de unidades de temperatura, pasar de ºC  a ºF. Recordemos la regla de conversión:\n",
    "\n",
    "$ºF = 1.8*ºC + 32$"
   ]
  },
  {
   "cell_type": "code",
   "execution_count": null,
   "metadata": {
    "colab": {},
    "colab_type": "code",
    "id": "P8hGYJxPkprE"
   },
   "outputs": [],
   "source": []
  },
  {
   "cell_type": "code",
   "execution_count": null,
   "metadata": {
    "colab": {
     "base_uri": "https://localhost:8080/",
     "height": 34
    },
    "colab_type": "code",
    "id": "trca3aqxweH0",
    "outputId": "d658ccdb-baab-4b41-aa94-b684e4782453"
   },
   "outputs": [],
   "source": []
  },
  {
   "cell_type": "code",
   "execution_count": null,
   "metadata": {
    "colab": {
     "base_uri": "https://localhost:8080/",
     "height": 34
    },
    "colab_type": "code",
    "id": "P-2wel_mwiWl",
    "outputId": "de3be0ae-4fc7-4aaf-be2c-7428959a9edc"
   },
   "outputs": [],
   "source": []
  },
  {
   "cell_type": "markdown",
   "metadata": {
    "colab_type": "text",
    "id": "-EdbNXPnwlUo"
   },
   "source": [
    "Construyamos ahora un programa más avanzado. Un conversor de unidades de temperatura que pueda convertir cualquier escala:\n"
   ]
  },
  {
   "cell_type": "code",
   "execution_count": null,
   "metadata": {
    "colab": {},
    "colab_type": "code",
    "id": "uqZH19Q_wzpV"
   },
   "outputs": [],
   "source": []
  },
  {
   "cell_type": "code",
   "execution_count": 7,
   "metadata": {
    "colab": {
     "base_uri": "https://localhost:8080/",
     "height": 34
    },
    "colab_type": "code",
    "id": "lIvm-3d70aKU",
    "outputId": "fd5cc32b-63fa-499f-b533-2e3552189e1a"
   },
   "outputs": [
    {
     "ename": "NameError",
     "evalue": "name 'convtemp' is not defined",
     "output_type": "error",
     "traceback": [
      "\u001b[1;31m---------------------------------------------------------------------------\u001b[0m",
      "\u001b[1;31mNameError\u001b[0m                                 Traceback (most recent call last)",
      "\u001b[1;32m<ipython-input-7-f8640e14dfc1>\u001b[0m in \u001b[0;36m<module>\u001b[1;34m\u001b[0m\n\u001b[1;32m----> 1\u001b[1;33m \u001b[0mconvtemp\u001b[0m\u001b[1;33m(\u001b[0m\u001b[1;36m0\u001b[0m\u001b[1;33m,\u001b[0m\u001b[1;34m'c'\u001b[0m\u001b[1;33m,\u001b[0m\u001b[1;34m'f'\u001b[0m\u001b[1;33m)\u001b[0m\u001b[1;33m\u001b[0m\u001b[1;33m\u001b[0m\u001b[0m\n\u001b[0m",
      "\u001b[1;31mNameError\u001b[0m: name 'convtemp' is not defined"
     ]
    }
   ],
   "source": [
    "convtemp(0,'c','f')"
   ]
  },
  {
   "cell_type": "code",
   "execution_count": null,
   "metadata": {
    "colab": {
     "base_uri": "https://localhost:8080/",
     "height": 34
    },
    "colab_type": "code",
    "id": "YAMNDuZx1hEN",
    "outputId": "28d387ec-a4ce-4336-8bd2-d4fde2d500dd"
   },
   "outputs": [],
   "source": [
    "convtemp(0,'c','h')"
   ]
  },
  {
   "cell_type": "markdown",
   "metadata": {
    "colab_type": "text",
    "id": "w2qX7AdR5W6M"
   },
   "source": [
    "*Tarea:*\n",
    "\n",
    "Cree una función que útil para realizar un cálculo de su área de experticia."
   ]
  },
  {
   "cell_type": "markdown",
   "metadata": {
    "colab_type": "text",
    "id": "DuRv4TbJUjhz"
   },
   "source": [
    "# Entrada y salida de archivos (input - output)"
   ]
  },
  {
   "cell_type": "markdown",
   "metadata": {
    "colab_type": "text",
    "id": "a16XYAnpg4Qz"
   },
   "source": [
    "Hasta ahora, hemos visto únicamente ejemplos que usan entradas del usuario con el teclado y como salida se imprime en pantalla el resultado. Aunque esto es útil para resolver tareas pequeñas, en la vida real se requiere utilizar grandes cantidades de datos, p. ej. LAS, Zmap, archivos que provienen de equipos, entre otros. Veamos algunos ejemplos de como abrir, leer y escribir sobre archivos de texto plano.\n",
    "\n",
    "**Nota:** En muchos varios módulos de Python existen codigos para abrir distintos tipos de datos p. ej. formato MATLAB, excel, segy, etc... Por ahora solo trabajaremos con archivos de texto plano."
   ]
  },
  {
   "cell_type": "code",
   "execution_count": null,
   "metadata": {
    "colab": {
     "base_uri": "https://localhost:8080/",
     "height": 34
    },
    "colab_type": "code",
    "id": "s0jqINAvUs3x",
    "outputId": "ba83c280-9c24-4e12-d2a1-c131822284e2"
   },
   "outputs": [],
   "source": []
  },
  {
   "cell_type": "code",
   "execution_count": null,
   "metadata": {
    "colab": {},
    "colab_type": "code",
    "id": "_HrbWOJ8luwr"
   },
   "outputs": [],
   "source": []
  },
  {
   "cell_type": "code",
   "execution_count": null,
   "metadata": {
    "colab": {
     "base_uri": "https://localhost:8080/",
     "height": 35
    },
    "colab_type": "code",
    "id": "pi51txAYje1P",
    "outputId": "49599884-f93e-4260-f854-f2e26ef675b5"
   },
   "outputs": [],
   "source": [
    "\n"
   ]
  },
  {
   "cell_type": "code",
   "execution_count": null,
   "metadata": {
    "colab": {
     "base_uri": "https://localhost:8080/",
     "height": 34
    },
    "colab_type": "code",
    "id": "HSOaUFXUjghy",
    "outputId": "68709e5e-db99-4fa7-8fe0-2a1022248e8a"
   },
   "outputs": [],
   "source": []
  },
  {
   "cell_type": "code",
   "execution_count": null,
   "metadata": {
    "colab": {},
    "colab_type": "code",
    "id": "we3FwIrOjjNp"
   },
   "outputs": [],
   "source": []
  },
  {
   "cell_type": "code",
   "execution_count": null,
   "metadata": {
    "colab": {
     "base_uri": "https://localhost:8080/",
     "height": 123
    },
    "colab_type": "code",
    "id": "OcKGGAFbj41z",
    "outputId": "3ce313a4-1f5c-4650-9638-caba7beff51b"
   },
   "outputs": [],
   "source": [
    "\n"
   ]
  },
  {
   "cell_type": "code",
   "execution_count": null,
   "metadata": {
    "colab": {
     "base_uri": "https://localhost:8080/",
     "height": 105
    },
    "colab_type": "code",
    "id": "sinrWHjOkQyR",
    "outputId": "9d096828-3af3-4488-e11e-696e1fdb7dba"
   },
   "outputs": [],
   "source": []
  },
  {
   "cell_type": "code",
   "execution_count": null,
   "metadata": {
    "colab": {
     "base_uri": "https://localhost:8080/",
     "height": 141
    },
    "colab_type": "code",
    "id": "3j0pPgWxkSKZ",
    "outputId": "8cd80ef8-3dd4-4c27-92cf-44c0a1bd422c"
   },
   "outputs": [],
   "source": []
  },
  {
   "cell_type": "markdown",
   "metadata": {
    "colab_type": "text",
    "id": "re_dc-cckuay"
   },
   "source": []
  },
  {
   "cell_type": "markdown",
   "metadata": {
    "colab_type": "text",
    "id": "GLDVbXiavuIO"
   },
   "source": [
    "# Algunos Módulos de Python"
   ]
  },
  {
   "cell_type": "markdown",
   "metadata": {
    "colab_type": "text",
    "id": "ZYO3PH6B8vRB"
   },
   "source": [
    "Python tiene muchas funciones incorporadas que podemos usar. Los módulos son archivos que contienen una colección de funciones relacionadas. Veamos el modulo `math`, utilizado para operaciones matemáticas.\n"
   ]
  },
  {
   "cell_type": "code",
   "execution_count": null,
   "metadata": {
    "colab": {
     "base_uri": "https://localhost:8080/",
     "height": 34
    },
    "colab_type": "code",
    "id": "GLUkYOCo9M5Y",
    "outputId": "0bc4268b-4f4f-4a74-9077-fd7478cb769d"
   },
   "outputs": [],
   "source": []
  },
  {
   "cell_type": "markdown",
   "metadata": {
    "colab_type": "text",
    "id": "C-OYbLVK9Xqt"
   },
   "source": [
    "Para importar las funcinones de un módulo debemos utilizar el comando `import` el cual se encarga de leer las funciones dentro del modulo `math`. Para utilizar una función que se encuentre dentro de un módulo, primero debemos poner el nombre del módulo, seguido por un punto y del nombre de la función: `math.sqrt(..)`.\n",
    "\n",
    "\n",
    "Otras formas de importar modulos:\n"
   ]
  },
  {
   "cell_type": "code",
   "execution_count": null,
   "metadata": {
    "colab": {},
    "colab_type": "code",
    "id": "4iFio4tI-Rhf"
   },
   "outputs": [],
   "source": [
    "#En este caso, únicamente importamos la función 'sqrt' del módulo math\n"
   ]
  },
  {
   "cell_type": "code",
   "execution_count": null,
   "metadata": {
    "colab": {},
    "colab_type": "code",
    "id": "mgRuPXySkzlD"
   },
   "outputs": [],
   "source": []
  },
  {
   "cell_type": "code",
   "execution_count": null,
   "metadata": {
    "colab": {
     "base_uri": "https://localhost:8080/",
     "height": 1000
    },
    "colab_type": "code",
    "id": "JGm0QkvW_4LF",
    "outputId": "f24041a8-ca81-4c46-f5c8-b9e22503842e"
   },
   "outputs": [],
   "source": []
  },
  {
   "cell_type": "markdown",
   "metadata": {
    "colab_type": "text",
    "id": "mBWhtAvIBA76"
   },
   "source": [
    "**NumPy**\n",
    "\n",
    "\n",
    "NumPy es un paquete fundamental de la computación científica en Python. Este paquete de Python se centra en la manipulación de arreglos 1D (vectores), 2D, 3D y nD (matrices). Cuenta además con funcionalidad útiles de algebra lineal,  transformada de Fourier, números aleatorios, entre otras cosas. \n",
    "\n",
    "Empecemos con algunas operaciones entre vectores:\n",
    "\n"
   ]
  },
  {
   "cell_type": "code",
   "execution_count": null,
   "metadata": {
    "colab": {},
    "colab_type": "code",
    "id": "W3bO3qr5BArz"
   },
   "outputs": [],
   "source": [
    "import numpy as np"
   ]
  },
  {
   "cell_type": "code",
   "execution_count": null,
   "metadata": {
    "colab": {
     "base_uri": "https://localhost:8080/",
     "height": 52
    },
    "colab_type": "code",
    "id": "lvmG05qnAcCr",
    "outputId": "aae873d5-4353-4e81-dc05-47f30f9dd826"
   },
   "outputs": [],
   "source": []
  },
  {
   "cell_type": "code",
   "execution_count": null,
   "metadata": {
    "colab": {
     "base_uri": "https://localhost:8080/",
     "height": 34
    },
    "colab_type": "code",
    "id": "NXP8wIR38hW-",
    "outputId": "a10e1d28-332d-45e9-bd66-075ae81259ea"
   },
   "outputs": [],
   "source": [
    "*#Slicing\n",
    "\n"
   ]
  },
  {
   "cell_type": "code",
   "execution_count": null,
   "metadata": {
    "colab": {
     "base_uri": "https://localhost:8080/",
     "height": 34
    },
    "colab_type": "code",
    "id": "9eZIFArg8oFD",
    "outputId": "cea8761d-d648-44c1-eef6-be4809a5e37e"
   },
   "outputs": [],
   "source": []
  },
  {
   "cell_type": "code",
   "execution_count": null,
   "metadata": {
    "colab": {
     "base_uri": "https://localhost:8080/",
     "height": 34
    },
    "colab_type": "code",
    "id": "eF24kTdw7uhu",
    "outputId": "2bebe2a6-8a9d-4f04-b1df-08879a048df0"
   },
   "outputs": [],
   "source": []
  },
  {
   "cell_type": "code",
   "execution_count": null,
   "metadata": {
    "colab": {
     "base_uri": "https://localhost:8080/",
     "height": 34
    },
    "colab_type": "code",
    "id": "GP-Isc3q7vZ-",
    "outputId": "9a57291f-d8a0-4261-ef23-1bb430d4ad3a"
   },
   "outputs": [],
   "source": []
  },
  {
   "cell_type": "code",
   "execution_count": null,
   "metadata": {
    "colab": {
     "base_uri": "https://localhost:8080/",
     "height": 34
    },
    "colab_type": "code",
    "id": "yGILeMti7vAf",
    "outputId": "14b98b5c-af3e-4244-ae31-d9514c1c1dd6"
   },
   "outputs": [],
   "source": []
  },
  {
   "cell_type": "code",
   "execution_count": null,
   "metadata": {
    "colab": {
     "base_uri": "https://localhost:8080/",
     "height": 34
    },
    "colab_type": "code",
    "id": "eI_heh727uK-",
    "outputId": "da2ae4a3-6ae7-46bf-e4f0-6563ccecf7c2"
   },
   "outputs": [],
   "source": []
  },
  {
   "cell_type": "code",
   "execution_count": null,
   "metadata": {
    "colab": {
     "base_uri": "https://localhost:8080/",
     "height": 34
    },
    "colab_type": "code",
    "id": "6Js1_zKZ78dl",
    "outputId": "944f60a2-b790-4012-edec-27f97c5ec79c"
   },
   "outputs": [],
   "source": [
    "#Producto punto\n",
    "\n"
   ]
  },
  {
   "cell_type": "code",
   "execution_count": null,
   "metadata": {
    "colab": {
     "base_uri": "https://localhost:8080/",
     "height": 52
    },
    "colab_type": "code",
    "id": "N1FHoFn88GQY",
    "outputId": "7bfd8d9e-3fcf-4fb8-f6e2-2d053099fc6c"
   },
   "outputs": [],
   "source": [
    "#Matrices\n",
    "\n"
   ]
  },
  {
   "cell_type": "code",
   "execution_count": null,
   "metadata": {
    "colab": {
     "base_uri": "https://localhost:8080/",
     "height": 34
    },
    "colab_type": "code",
    "id": "hpoEPcqX8cvY",
    "outputId": "0ff8b261-97bf-463f-b42f-cced20746d34"
   },
   "outputs": [],
   "source": []
  },
  {
   "cell_type": "code",
   "execution_count": null,
   "metadata": {
    "colab": {
     "base_uri": "https://localhost:8080/",
     "height": 87
    },
    "colab_type": "code",
    "id": "sUV_Vzrz8c8u",
    "outputId": "5d0daadd-e80c-4595-d6e3-9be4e3a790b7"
   },
   "outputs": [],
   "source": []
  },
  {
   "cell_type": "code",
   "execution_count": null,
   "metadata": {
    "colab": {
     "base_uri": "https://localhost:8080/",
     "height": 52
    },
    "colab_type": "code",
    "id": "3c9R73Ar8cW2",
    "outputId": "64800535-5d0e-4376-b3f6-81c008ddc0fa"
   },
   "outputs": [],
   "source": []
  },
  {
   "cell_type": "code",
   "execution_count": null,
   "metadata": {
    "colab": {
     "base_uri": "https://localhost:8080/",
     "height": 52
    },
    "colab_type": "code",
    "id": "-nJZWdrB9VsX",
    "outputId": "223ff391-a15e-4a74-a26f-f51bc574fc28"
   },
   "outputs": [],
   "source": []
  },
  {
   "cell_type": "code",
   "execution_count": null,
   "metadata": {
    "colab": {
     "base_uri": "https://localhost:8080/",
     "height": 34
    },
    "colab_type": "code",
    "id": "JUdT8grC9h1D",
    "outputId": "e8c19aa8-9b55-4d76-f72c-e7c899510410"
   },
   "outputs": [],
   "source": []
  },
  {
   "cell_type": "markdown",
   "metadata": {
    "colab_type": "text",
    "id": "whgLpt1KAEBe"
   },
   "source": [
    "Utilizando números aleatorios"
   ]
  },
  {
   "cell_type": "code",
   "execution_count": null,
   "metadata": {
    "colab": {},
    "colab_type": "code",
    "id": "qw8hLpmoADWD"
   },
   "outputs": [],
   "source": []
  },
  {
   "cell_type": "code",
   "execution_count": null,
   "metadata": {
    "colab": {},
    "colab_type": "code",
    "id": "BAp0_15WBTY0"
   },
   "outputs": [],
   "source": []
  },
  {
   "cell_type": "markdown",
   "metadata": {
    "colab_type": "text",
    "id": "wau6Qtlz_2LC"
   },
   "source": [
    "**Matplotlib**\n",
    "\n"
   ]
  },
  {
   "cell_type": "markdown",
   "metadata": {
    "colab": {},
    "colab_type": "code",
    "id": "QXsxNFuTAgSh"
   },
   "source": [
    "Matplotlib es una librería para la creación y manipulación de gráficos 2D y 3D en Python. Está inspirada en las funcionalidades de graficación en MATLAB. \n",
    "\n",
    "Para más información consultar https://matplotlib.org/"
   ]
  },
  {
   "cell_type": "markdown",
   "metadata": {},
   "source": [
    "Hay dos formas de construir gráficos con esta librería en Python:\n",
    "\n",
    "\n",
    "1. Método funcional\n",
    "2. Método orientado a objetos\n",
    "\n",
    "**Método funcional**\n"
   ]
  },
  {
   "cell_type": "code",
   "execution_count": null,
   "metadata": {},
   "outputs": [],
   "source": [
    "#importar la librería\n",
    "\n",
    "import matplotlib.pylab as plt\n",
    "\n",
    "\n",
    "\n",
    "# Gráfiquemos una parabola\n",
    "\n",
    "import numpy as np\n",
    "\n",
    "x = np.linspace(-10, 10, 30)\n",
    "\n",
    "y = x**2\n",
    "\n",
    "\n"
   ]
  },
  {
   "cell_type": "code",
   "execution_count": null,
   "metadata": {},
   "outputs": [],
   "source": []
  }
 ],
 "metadata": {
  "colab": {
   "collapsed_sections": [],
   "name": "Introducción a Python",
   "provenance": [],
   "toc_visible": true
  },
  "kernelspec": {
   "display_name": "Python 3",
   "language": "python",
   "name": "python3"
  },
  "language_info": {
   "codemirror_mode": {
    "name": "ipython",
    "version": 3
   },
   "file_extension": ".py",
   "mimetype": "text/x-python",
   "name": "python",
   "nbconvert_exporter": "python",
   "pygments_lexer": "ipython3",
   "version": "3.7.4"
  }
 },
 "nbformat": 4,
 "nbformat_minor": 1
}
