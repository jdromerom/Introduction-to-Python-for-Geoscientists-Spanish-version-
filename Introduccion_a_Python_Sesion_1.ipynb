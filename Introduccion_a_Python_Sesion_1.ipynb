{
 "cells": [
  {
   "cell_type": "markdown",
   "metadata": {
    "colab_type": "text",
    "id": "pz1T6uwBbx4p"
   },
   "source": [
    "# **INTRODUCCIÓN A PYTHON**\n",
    "------------------------------------------------------------------------------------------\n",
    "------------------------------------\n",
    "Ecopetrol - VEX\n",
    "\n",
    "Agosto 2020"
   ]
  },
  {
   "cell_type": "markdown",
   "metadata": {
    "colab_type": "text",
    "id": "rzwuv146JDy5"
   },
   "source": [
    "# 1. Primeros pasos en Python"
   ]
  },
  {
   "cell_type": "markdown",
   "metadata": {
    "colab_type": "text",
    "id": "7zcE1h-7o7rM"
   },
   "source": [
    "La sentencia `print` es tradicionalmente la primera función que se eneseña en la primera de clase de programación en cualquier lenguaje. El comando `print` imprime los que se encuentre entre parentesis, para imprimir un mensaje debemos ponerlo entre comillas simples o dobles:\n"
   ]
  },
  {
   "cell_type": "code",
   "execution_count": 1,
   "metadata": {
    "colab": {
     "base_uri": "https://localhost:8080/",
     "height": 34
    },
    "colab_type": "code",
    "id": "2soUDoieplGj",
    "outputId": "e4ba087e-d72f-48a2-c8d7-acda6946e956"
   },
   "outputs": [
    {
     "name": "stdout",
     "output_type": "stream",
     "text": [
      "¡Hola mundo!\n"
     ]
    }
   ],
   "source": [
    "print(\"¡Hola mundo!\")"
   ]
  },
  {
   "cell_type": "code",
   "execution_count": 2,
   "metadata": {
    "colab": {
     "base_uri": "https://localhost:8080/",
     "height": 34
    },
    "colab_type": "code",
    "id": "6m-E5ZlvpoAN",
    "outputId": "88ee6704-ec23-4731-9ccf-0ba49b7f3db6"
   },
   "outputs": [
    {
     "ename": "SyntaxError",
     "evalue": "invalid syntax (<ipython-input-2-79bb49c0df15>, line 1)",
     "output_type": "error",
     "traceback": [
      "\u001b[1;36m  File \u001b[1;32m\"<ipython-input-2-79bb49c0df15>\"\u001b[1;36m, line \u001b[1;32m1\u001b[0m\n\u001b[1;33m    print(Hola mundo)\u001b[0m\n\u001b[1;37m                   ^\u001b[0m\n\u001b[1;31mSyntaxError\u001b[0m\u001b[1;31m:\u001b[0m invalid syntax\n"
     ]
    }
   ],
   "source": [
    "print(Hola mundo)"
   ]
  },
  {
   "cell_type": "code",
   "execution_count": 4,
   "metadata": {},
   "outputs": [
    {
     "name": "stdout",
     "output_type": "stream",
     "text": [
      "Hola mundo!\n"
     ]
    }
   ],
   "source": [
    "print('Hola mundo!')"
   ]
  },
  {
   "cell_type": "markdown",
   "metadata": {
    "colab_type": "text",
    "id": "GJmPwDxPqTgt"
   },
   "source": [
    "En caso de que queramos imprimir un número o una variable (más adelante se explica qué es una variable), lo hacemos directamente sin comillas:\n"
   ]
  },
  {
   "cell_type": "code",
   "execution_count": 1,
   "metadata": {
    "colab": {
     "base_uri": "https://localhost:8080/",
     "height": 34
    },
    "colab_type": "code",
    "id": "qyB9rK5ZqGaC",
    "outputId": "7788656c-6527-4058-b398-9a33d63811a6"
   },
   "outputs": [
    {
     "name": "stdout",
     "output_type": "stream",
     "text": [
      "5\n"
     ]
    }
   ],
   "source": [
    "print(5)"
   ]
  },
  {
   "cell_type": "code",
   "execution_count": 2,
   "metadata": {
    "colab": {
     "base_uri": "https://localhost:8080/",
     "height": 34
    },
    "colab_type": "code",
    "id": "FTVWYnfXqWm4",
    "outputId": "a1a93f09-4f17-471f-b649-b801d2980d08"
   },
   "outputs": [
    {
     "name": "stdout",
     "output_type": "stream",
     "text": [
      "4\n"
     ]
    }
   ],
   "source": [
    "print(5-1)"
   ]
  },
  {
   "cell_type": "markdown",
   "metadata": {
    "colab_type": "text",
    "id": "kDyum5NrYKFZ"
   },
   "source": [
    "La programación de computadores consiste en llevar a cabo calculos de una forma secuencial o algorítmica para llevar a cabo una tarea específica. Un computador es una calculadora con operaciones avanzadas, capaz de resolver tareas complejas.\n",
    "\n",
    "En ese orden ideas, empezaremos haciendo calculos básicos y progresivamente implementaremos funciones para hacer grandes calculos, secuencias de calculos, modelos, entre otras.\n",
    "\n",
    "Las operaciones básicas en una calculadora se implementan en Python como operadores de la siguiente forma:\n"
   ]
  },
  {
   "cell_type": "code",
   "execution_count": 5,
   "metadata": {
    "colab": {
     "base_uri": "https://localhost:8080/",
     "height": 34
    },
    "colab_type": "code",
    "id": "q3Nsgku3YG0M",
    "outputId": "61851ae0-734a-43bd-8920-9b6ba190e990"
   },
   "outputs": [
    {
     "data": {
      "text/plain": [
       "5"
      ]
     },
     "execution_count": 5,
     "metadata": {},
     "output_type": "execute_result"
    }
   ],
   "source": [
    "2 + 3"
   ]
  },
  {
   "cell_type": "code",
   "execution_count": 6,
   "metadata": {
    "colab": {
     "base_uri": "https://localhost:8080/",
     "height": 34
    },
    "colab_type": "code",
    "id": "OBq3gGcuX7Ik",
    "outputId": "a07a2d8c-548d-497e-f09c-8e5c36976078"
   },
   "outputs": [
    {
     "data": {
      "text/plain": [
       "3"
      ]
     },
     "execution_count": 6,
     "metadata": {},
     "output_type": "execute_result"
    }
   ],
   "source": [
    "5 - 2 "
   ]
  },
  {
   "cell_type": "code",
   "execution_count": 7,
   "metadata": {
    "colab": {
     "base_uri": "https://localhost:8080/",
     "height": 34
    },
    "colab_type": "code",
    "id": "r-RSprJ8efr0",
    "outputId": "103015aa-0f5c-4bee-b2bc-2f06f5ebf042"
   },
   "outputs": [
    {
     "data": {
      "text/plain": [
       "10"
      ]
     },
     "execution_count": 7,
     "metadata": {},
     "output_type": "execute_result"
    }
   ],
   "source": [
    "5 * 2"
   ]
  },
  {
   "cell_type": "code",
   "execution_count": 8,
   "metadata": {
    "colab": {
     "base_uri": "https://localhost:8080/",
     "height": 34
    },
    "colab_type": "code",
    "id": "9zYRb6-DegX7",
    "outputId": "ecd7076f-ea0e-4283-e455-16481914a547"
   },
   "outputs": [
    {
     "data": {
      "text/plain": [
       "0.6666666666666666"
      ]
     },
     "execution_count": 8,
     "metadata": {},
     "output_type": "execute_result"
    }
   ],
   "source": [
    "4/6\n"
   ]
  },
  {
   "cell_type": "code",
   "execution_count": 9,
   "metadata": {
    "colab": {
     "base_uri": "https://localhost:8080/",
     "height": 34
    },
    "colab_type": "code",
    "id": "4U87WRuVegvP",
    "outputId": "b7fdf48f-5dea-4f84-dc1a-ec802889bbb7"
   },
   "outputs": [
    {
     "data": {
      "text/plain": [
       "16"
      ]
     },
     "execution_count": 9,
     "metadata": {},
     "output_type": "execute_result"
    }
   ],
   "source": [
    "4**2 #**doble asterisco se una para elevar a una potencia"
   ]
  },
  {
   "cell_type": "code",
   "execution_count": 12,
   "metadata": {
    "colab": {
     "base_uri": "https://localhost:8080/",
     "height": 34
    },
    "colab_type": "code",
    "id": "DpauHb6yeghX",
    "outputId": "af974eed-bfdf-4d1a-927a-c4eeb825338a"
   },
   "outputs": [
    {
     "data": {
      "text/plain": [
       "3"
      ]
     },
     "execution_count": 12,
     "metadata": {},
     "output_type": "execute_result"
    }
   ],
   "source": [
    "15//4 #doble barra digonal para divisón entera"
   ]
  },
  {
   "cell_type": "code",
   "execution_count": 13,
   "metadata": {},
   "outputs": [
    {
     "data": {
      "text/plain": [
       "3.75"
      ]
     },
     "execution_count": 13,
     "metadata": {},
     "output_type": "execute_result"
    }
   ],
   "source": [
    "15/4"
   ]
  },
  {
   "cell_type": "code",
   "execution_count": 14,
   "metadata": {
    "colab": {
     "base_uri": "https://localhost:8080/",
     "height": 34
    },
    "colab_type": "code",
    "id": "NcPA6ssomq00",
    "outputId": "66ee70e6-fa6c-481d-94a9-663e1cb112ca"
   },
   "outputs": [
    {
     "data": {
      "text/plain": [
       "2"
      ]
     },
     "execution_count": 14,
     "metadata": {},
     "output_type": "execute_result"
    }
   ],
   "source": [
    "20%3 #Módulo de una división (el resto)"
   ]
  },
  {
   "cell_type": "code",
   "execution_count": 15,
   "metadata": {},
   "outputs": [
    {
     "data": {
      "text/plain": [
       "0"
      ]
     },
     "execution_count": 15,
     "metadata": {},
     "output_type": "execute_result"
    }
   ],
   "source": [
    "30%6 #Cuando la división es exacta el resto es 0"
   ]
  },
  {
   "cell_type": "markdown",
   "metadata": {
    "colab_type": "text",
    "id": "0xqR3omLfTZa"
   },
   "source": [
    "Los cálculos anteriores no quedan guardados en ninguna parte de la memoria del computador, simplemente fueron calculos 'on the fly'. En programación lo que buscamos es guardar distintos tipos de calculos, para utilizarlos más adelante en otras operaciones. La forma de guardar un número, palabra, vector, matriz, etc... es por medio de **Variables**. \n",
    "\n",
    "\n",
    "\n"
   ]
  },
  {
   "cell_type": "code",
   "execution_count": 16,
   "metadata": {
    "colab": {
     "base_uri": "https://localhost:8080/",
     "height": 52
    },
    "colab_type": "code",
    "id": "10XSU8ePjhXz",
    "outputId": "f73995e2-8ae5-4204-86c1-c045f7964e9a",
    "scrolled": true
   },
   "outputs": [],
   "source": [
    "a = 2 #la variable a guarda el número 2"
   ]
  },
  {
   "cell_type": "code",
   "execution_count": 17,
   "metadata": {
    "colab": {
     "base_uri": "https://localhost:8080/",
     "height": 34
    },
    "colab_type": "code",
    "id": "CxvJSdx7jomC",
    "outputId": "99f082b1-e8eb-4548-a570-70f83ac1656c"
   },
   "outputs": [],
   "source": [
    "b = 3"
   ]
  },
  {
   "cell_type": "code",
   "execution_count": 18,
   "metadata": {
    "colab": {},
    "colab_type": "code",
    "id": "18POS6ynjsyR"
   },
   "outputs": [
    {
     "data": {
      "text/plain": [
       "5"
      ]
     },
     "execution_count": 18,
     "metadata": {},
     "output_type": "execute_result"
    }
   ],
   "source": [
    "a + b"
   ]
  },
  {
   "cell_type": "code",
   "execution_count": 19,
   "metadata": {
    "colab": {
     "base_uri": "https://localhost:8080/",
     "height": 34
    },
    "colab_type": "code",
    "id": "weZ1zU2ZjuvZ",
    "outputId": "15f33de5-14d7-4e93-c2a0-c72d55e719c8"
   },
   "outputs": [
    {
     "ename": "NameError",
     "evalue": "name 'c' is not defined",
     "output_type": "error",
     "traceback": [
      "\u001b[1;31m---------------------------------------------------------------------------\u001b[0m",
      "\u001b[1;31mNameError\u001b[0m                                 Traceback (most recent call last)",
      "\u001b[1;32m<ipython-input-19-73e66d8e9c62>\u001b[0m in \u001b[0;36m<module>\u001b[1;34m\u001b[0m\n\u001b[1;32m----> 1\u001b[1;33m \u001b[0mc\u001b[0m \u001b[1;33m+\u001b[0m \u001b[0md\u001b[0m\u001b[1;33m\u001b[0m\u001b[1;33m\u001b[0m\u001b[0m\n\u001b[0m",
      "\u001b[1;31mNameError\u001b[0m: name 'c' is not defined"
     ]
    }
   ],
   "source": [
    "c + d "
   ]
  },
  {
   "cell_type": "code",
   "execution_count": 20,
   "metadata": {
    "colab": {
     "base_uri": "https://localhost:8080/",
     "height": 102
    },
    "colab_type": "code",
    "id": "ZkiZNkATkTcN",
    "outputId": "9b2901cf-85a7-4f56-eb15-9320d300bae5"
   },
   "outputs": [
    {
     "data": {
      "text/plain": [
       "6"
      ]
     },
     "execution_count": 20,
     "metadata": {},
     "output_type": "execute_result"
    }
   ],
   "source": [
    "a*b"
   ]
  },
  {
   "cell_type": "code",
   "execution_count": 22,
   "metadata": {},
   "outputs": [
    {
     "name": "stdout",
     "output_type": "stream",
     "text": [
      "5\n"
     ]
    }
   ],
   "source": [
    "c = a + b\n",
    "\n",
    "print(c)"
   ]
  },
  {
   "cell_type": "code",
   "execution_count": 25,
   "metadata": {},
   "outputs": [
    {
     "name": "stdout",
     "output_type": "stream",
     "text": [
      "5\n"
     ]
    }
   ],
   "source": [
    "c=a+b\n",
    "print(c)"
   ]
  },
  {
   "cell_type": "code",
   "execution_count": 29,
   "metadata": {},
   "outputs": [
    {
     "name": "stdout",
     "output_type": "stream",
     "text": [
      "0.6666666666666666\n"
     ]
    }
   ],
   "source": [
    "d = a/b\n",
    "\n",
    "print(d)"
   ]
  },
  {
   "cell_type": "code",
   "execution_count": 30,
   "metadata": {},
   "outputs": [
    {
     "name": "stdout",
     "output_type": "stream",
     "text": [
      "Variable   Type     Data/Info\n",
      "-----------------------------\n",
      "a          int      2\n",
      "b          int      3\n",
      "c          int      5\n",
      "d          float    0.6666666666666666\n"
     ]
    }
   ],
   "source": [
    "whos"
   ]
  },
  {
   "cell_type": "markdown",
   "metadata": {
    "colab_type": "text",
    "id": "cbs6jgBUkYQb"
   },
   "source": [
    "Dependiendo del tipo de información que almacene la variable, habrán distintos de variable. Veamos algunos:\n",
    "\n",
    "*   **str:** Las variables de tipo string almacenan cadenas de caracteres\n",
    "\n",
    "*   **int:** Las variables de tipo entero almacenan únicamente números enteros\n",
    "*   **float:** Las variables de tipo float\n",
    "*   **long:** Las variables de tipo float\n",
    "*   **complex:** Las variables de tipo float\n",
    "\n",
    "\n",
    "\n",
    "\n",
    "\n",
    "\n",
    "\n",
    "\n",
    "\n",
    "\n",
    "\n",
    "\n"
   ]
  },
  {
   "cell_type": "code",
   "execution_count": 31,
   "metadata": {
    "colab": {
     "base_uri": "https://localhost:8080/",
     "height": 34
    },
    "colab_type": "code",
    "id": "YLtaXq5qkX8k",
    "outputId": "d880c0e9-718e-48a7-9433-8b6394823b2a"
   },
   "outputs": [
    {
     "name": "stdout",
     "output_type": "stream",
     "text": [
      "hola mundo\n"
     ]
    }
   ],
   "source": [
    "mensaje = \"hola mundo\"\n",
    "\n",
    "print(mensaje)"
   ]
  },
  {
   "cell_type": "code",
   "execution_count": 32,
   "metadata": {},
   "outputs": [
    {
     "name": "stdout",
     "output_type": "stream",
     "text": [
      "Variable   Type     Data/Info\n",
      "-----------------------------\n",
      "a          int      2\n",
      "b          int      3\n",
      "c          int      5\n",
      "d          float    0.6666666666666666\n",
      "mensaje    str      hola mundo\n"
     ]
    }
   ],
   "source": [
    "whos"
   ]
  },
  {
   "cell_type": "code",
   "execution_count": 33,
   "metadata": {},
   "outputs": [
    {
     "data": {
      "text/plain": [
       "5"
      ]
     },
     "execution_count": 33,
     "metadata": {},
     "output_type": "execute_result"
    }
   ],
   "source": [
    "a + b"
   ]
  },
  {
   "cell_type": "code",
   "execution_count": 34,
   "metadata": {},
   "outputs": [
    {
     "ename": "TypeError",
     "evalue": "unsupported operand type(s) for +: 'int' and 'str'",
     "output_type": "error",
     "traceback": [
      "\u001b[1;31m---------------------------------------------------------------------------\u001b[0m",
      "\u001b[1;31mTypeError\u001b[0m                                 Traceback (most recent call last)",
      "\u001b[1;32m<ipython-input-34-efc8a2973b8c>\u001b[0m in \u001b[0;36m<module>\u001b[1;34m\u001b[0m\n\u001b[1;32m----> 1\u001b[1;33m \u001b[0ma\u001b[0m \u001b[1;33m+\u001b[0m \u001b[0mmensaje\u001b[0m\u001b[1;33m\u001b[0m\u001b[1;33m\u001b[0m\u001b[0m\n\u001b[0m",
      "\u001b[1;31mTypeError\u001b[0m: unsupported operand type(s) for +: 'int' and 'str'"
     ]
    }
   ],
   "source": [
    "a + mensaje #No es posible sumar una variable tipo 'int' con una tipo 'str'"
   ]
  },
  {
   "cell_type": "code",
   "execution_count": 3,
   "metadata": {},
   "outputs": [],
   "source": [
    "esta_esmivariable1221 = \"Hola Ecopetrol\" "
   ]
  },
  {
   "cell_type": "code",
   "execution_count": 36,
   "metadata": {},
   "outputs": [
    {
     "name": "stdout",
     "output_type": "stream",
     "text": [
      "Variable                Type     Data/Info\n",
      "------------------------------------------\n",
      "a                       int      2\n",
      "b                       int      3\n",
      "c                       int      5\n",
      "d                       float    0.6666666666666666\n",
      "esta_esmivariable1221   str      Hola Ecopetrol\n",
      "mensaje                 str      hola mundo\n"
     ]
    }
   ],
   "source": [
    "whos"
   ]
  },
  {
   "cell_type": "markdown",
   "metadata": {
    "colab_type": "text",
    "id": "MHjyBaNjKmG_"
   },
   "source": [
    "Los nombres de las variables pueden ser letras y letras combinadas con números. Existen algunas palabras que Python tiene reservadas y no se pueden utilizar para nombrar variables. Esa lista de palabras clave es:"
   ]
  },
  {
   "cell_type": "code",
   "execution_count": 37,
   "metadata": {
    "colab": {
     "base_uri": "https://localhost:8080/",
     "height": 247
    },
    "colab_type": "code",
    "id": "IWooiuKIL_uo",
    "outputId": "c2af3ec5-8935-4f53-a748-ce77b28aa03b"
   },
   "outputs": [
    {
     "name": "stdout",
     "output_type": "stream",
     "text": [
      "\n",
      "Here is a list of the Python keywords.  Enter any keyword to get more help.\n",
      "\n",
      "False               class               from                or\n",
      "None                continue            global              pass\n",
      "True                def                 if                  raise\n",
      "and                 del                 import              return\n",
      "as                  elif                in                  try\n",
      "assert              else                is                  while\n",
      "async               except              lambda              with\n",
      "await               finally             nonlocal            yield\n",
      "break               for                 not                 \n",
      "\n"
     ]
    }
   ],
   "source": [
    "help('keywords')"
   ]
  },
  {
   "cell_type": "code",
   "execution_count": 38,
   "metadata": {
    "colab": {
     "base_uri": "https://localhost:8080/",
     "height": 34
    },
    "colab_type": "code",
    "id": "7hG9VgkfoHdn",
    "outputId": "6ab3703b-3166-4b6e-d932-add8a6fb80e7"
   },
   "outputs": [
    {
     "data": {
      "text/plain": [
       "str"
      ]
     },
     "execution_count": 38,
     "metadata": {},
     "output_type": "execute_result"
    }
   ],
   "source": [
    "type(esta_esmivariable1221)"
   ]
  },
  {
   "cell_type": "markdown",
   "metadata": {
    "colab_type": "text",
    "id": "hvu6veZZhSZM"
   },
   "source": [
    "Veamos un ejemplo, en el cálculo volumétrico de una oportunidad llamada Python-1. Recordemos que la ecuación de cálculo volumétrico es de la forma:\n",
    "\n",
    "\n",
    "$$ Volumen = A * h * \\frac{N}{G} * \\phi * (1 - S_{w}) * \\frac{1}{FVF} $$"
   ]
  },
  {
   "cell_type": "markdown",
   "metadata": {
    "colab_type": "text",
    "id": "mlzyY_aii5fa"
   },
   "source": [
    "Donde:\n",
    "\n",
    "$ A$ = Área\n",
    "\n",
    "$h$ = Espesor\n",
    "\n",
    "$N/G$ = Net to gross\n",
    "\n",
    "$\\phi$ = Porosidad\n",
    "\n",
    "$S_{w}$ = Saturación de agua\n",
    "\n",
    "$FVF$ = Factor de volumen\n"
   ]
  },
  {
   "cell_type": "code",
   "execution_count": 4,
   "metadata": {
    "colab": {},
    "colab_type": "code",
    "id": "7PoJ352uegNL"
   },
   "outputs": [],
   "source": [
    "#Cálculo volumétrico\n",
    "\n",
    "L = 4       # Largo en km\n",
    "W = 3       # ancho en km\n",
    "h = 100     # espesor del reservorio Gross (metros)\n",
    "NTG = 0.8   # Net to gross (fraq)\n",
    "Por = 0.25  # Porosidad (fraq)\n",
    "Sw = 0.30   # Saturación de agua (fraq)\n",
    "FVF = 1.2   # m3/m3\n"
   ]
  },
  {
   "cell_type": "code",
   "execution_count": 5,
   "metadata": {},
   "outputs": [
    {
     "name": "stdout",
     "output_type": "stream",
     "text": [
      "El volumen calculado para Python-1 es: 201600000.0 m3\n"
     ]
    }
   ],
   "source": [
    "Volumen = (L*1000) * (W*1000) * h * NTG * Por * (1-Sw) * FVF\n",
    "\n",
    "print('El volumen calculado para Python-1 es:', Volumen, 'm3')"
   ]
  },
  {
   "cell_type": "code",
   "execution_count": 43,
   "metadata": {},
   "outputs": [
    {
     "data": {
      "text/plain": [
       "2"
      ]
     },
     "execution_count": 43,
     "metadata": {},
     "output_type": "execute_result"
    }
   ],
   "source": [
    "2 * 2 - 2 #El orden de las operaciones en Python es igual que en aritmética"
   ]
  },
  {
   "cell_type": "markdown",
   "metadata": {
    "colab_type": "text",
    "id": "PA8SBdeFsRO0"
   },
   "source": [
    "**Nota:** El símbolo # al comienzo de una linea, indica que es un comentario y por lo tanto el programa no ejecutará nada que esté después de #. Por otra parte las líneas en blanco, tampoco tienen ninguna influencia en el programa."
   ]
  },
  {
   "cell_type": "markdown",
   "metadata": {
    "colab_type": "text",
    "id": "sHvpPaQC4r-E"
   },
   "source": [
    "*Tarea:*\n",
    "\n",
    "Escriba un programa que reciba un valor de volumen en m3 y retorne el valor en MBOE. Utilice la sentencia `input()` para solocitar el valor al usuario:"
   ]
  },
  {
   "cell_type": "code",
   "execution_count": 6,
   "metadata": {
    "colab": {},
    "colab_type": "code",
    "id": "a9NbUJuht-Ga"
   },
   "outputs": [
    {
     "name": "stdout",
     "output_type": "stream",
     "text": [
      "por favor digite un número \n",
      "4\n"
     ]
    }
   ],
   "source": [
    "a = input(\"por favor digite un número \\n\")"
   ]
  },
  {
   "cell_type": "markdown",
   "metadata": {},
   "source": [
    "*Desarrollo:*\n"
   ]
  },
  {
   "cell_type": "code",
   "execution_count": null,
   "metadata": {},
   "outputs": [],
   "source": []
  },
  {
   "cell_type": "code",
   "execution_count": null,
   "metadata": {},
   "outputs": [],
   "source": []
  }
 ],
 "metadata": {
  "colab": {
   "collapsed_sections": [],
   "name": "Introducción a Python",
   "provenance": [],
   "toc_visible": true
  },
  "kernelspec": {
   "display_name": "Python 3",
   "language": "python",
   "name": "python3"
  },
  "language_info": {
   "codemirror_mode": {
    "name": "ipython",
    "version": 3
   },
   "file_extension": ".py",
   "mimetype": "text/x-python",
   "name": "python",
   "nbconvert_exporter": "python",
   "pygments_lexer": "ipython3",
   "version": "3.7.4"
  }
 },
 "nbformat": 4,
 "nbformat_minor": 1
}
